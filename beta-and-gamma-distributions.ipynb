{
  "nbformat": 4,
  "nbformat_minor": 0,
  "metadata": {
    "colab": {
      "name": "beta-and-gamma-distributions.ipynb",
      "provenance": [],
      "collapsed_sections": [],
      "toc_visible": true
    },
    "kernelspec": {
      "name": "python3",
      "display_name": "Python 3"
    },
    "language_info": {
      "name": "python"
    }
  },
  "cells": [
    {
      "cell_type": "markdown",
      "metadata": {
        "id": "5775Ri6wjbIp"
      },
      "source": [
        "# Understanding Beta and Gamma Distributions\n",
        "\n",
        "This notebook aims to provide insights into two important families of continuous probability distributions: the **beta distribution** and the **gamma distribution**.\n",
        "\n",
        "For each distribution, we will discuss the different parameters as they are presented in:  \n",
        "+ Dudewicz, E. J. & Mishra, S. N. (1988). *Modern Mathematical Statistics*. John Wiley.\n",
        "+ [Wikipedia](https://www.wikipedia.org)"
      ]
    },
    {
      "cell_type": "markdown",
      "metadata": {
        "id": "SoLtOWnDlvBQ"
      },
      "source": [
        "# The Beta Distribution"
      ]
    },
    {
      "cell_type": "markdown",
      "metadata": {
        "id": "4b871REssbvB"
      },
      "source": [
        "## Support\n",
        "The beta distribution is a family of continuous probability distributions defined on the interval $[0, 1]$, i.e. if $X$ is a random variable with a beta distribution, it holds that:\n",
        "$$\n",
        "\\int_{-\\infty}^\\infty f_X(x) \\ dx = \\int_0^1 f_X(x) \\ dx = 1,\n",
        "$$\n",
        "\n",
        "with $f_X$ the probability distribution function of $X$.\n",
        "___\n",
        "Due to them being defined on the interval $[0, 1]$, beta distributions are a useful tool to model random variables that are themselves probabilities or proportions.\n",
        "___"
      ]
    },
    {
      "cell_type": "markdown",
      "metadata": {
        "id": "pJHaKfILsb15"
      },
      "source": [
        "## Parameters\n",
        "\n",
        "The beta distribution is fully parametrized by two **shape** parameters. Depending on the source, these parameters are called somewhat differently:\n",
        "\n",
        "+ Following [Wikipedia's notation](https://en.wikipedia.org/wiki/Beta_distribution), the shape parameters are denoted by $\\alpha$ and $\\beta$.\n",
        "+ Following Dudewicz & Mishra's notation, the shape parameters are denoted by $\\alpha$ and $\\lambda$.\n",
        "\n",
        "To make the distinction clear between the notation used in Dudewicz & Mishra and the one on Wikipedia, we will differentiate using superscripts. For instance, we will write $\\alpha^{DM}$ for the $\\alpha$ in Dudewicz & Mishra and $\\alpha^W$ for the one in Wikipedia.\n",
        "\n",
        "To make things more confusing, the parameters do not coincide perfectly between sources, the equivalences between the sources are the following:\n",
        "$$\n",
        "\\begin{align}\n",
        "\\alpha^{DM} + 1 &= \\alpha^W \\\\\n",
        "\\lambda^{DM} + 1 &= \\beta^W.\n",
        "\\end{align}$$\n",
        "___\n",
        "For instance, consider a beta distribution specified according to the notation on Wikipedia with $\\alpha^W = 3$ and $\\beta^W = 5$. This is **the exact same distribution** as the one specified according to Dudewicz & Mishra with $\\alpha^{DM} = 2$ and $\\lambda^{DM} = 4$.\n",
        "___\n",
        "\n",
        "The beta distribution is only defined for $\\alpha^W > 0$ and $\\beta^W > 0$ or, equivalently, $\\alpha^{DM} > -1$ and $\\lambda^{DM} > -1$.\n",
        "\n",
        "**In summary, the parameters are shifted by one depending on what source you look at, other than that, they have the same purpose.**"
      ]
    },
    {
      "cell_type": "markdown",
      "metadata": {
        "id": "jr5DMgfsssbj"
      },
      "source": [
        "\n",
        "## Probability Density Function\n",
        "According to Wikipedia, the pdf of a beta distribution is given by\n",
        "$$f_X^W(x) = \\frac{x^{\\alpha^W-1}(1 - x)^{\\beta^W -1}}{B^W(\\alpha^W, \\beta^W)},$$\n",
        "\n",
        "where $B^W$ is the [beta function](https://en.wikipedia.org/wiki/Beta_function), a special function defined as\n",
        "$$B^W(x, y) = \\int_0^1 t^{x-1}(1-t)^{y-1} \\ dt = \\frac{\\Gamma(x)\\Gamma(y)}{\\Gamma(x + y)},$$\n",
        "<a name=\"gamma-function\"></a>\n",
        "where $\\Gamma$ is the [gamma function](https://en.wikipedia.org/wiki/Gamma_function), another special function, defined as\n",
        "$$\\Gamma(z) = \\int_0^\\infty x^{z-1} e^{-x} \\ dx.$$\n",
        "\n",
        "Note that for the special case where $z$ is a positive integer, $\\Gamma(z)$ simplifies to $\\Gamma(z) = (z-1)!$.\n",
        "\n",
        "___\n",
        "**Do not confuse the beta function and the beta distribution!**  \n",
        "\n",
        "We make use of the beta *function* to define the pdf of a beta *distribution*, however, the beta *function* also has many other applications. The beta function is what is called a [special function](https://en.wikipedia.org/wiki/Special_functions) in mathematics, in essence, special functions are functions with established names due to their major importance in numerous mathematical applications.   \n",
        "\n",
        "For instance, better known special functions include the natural logarithm ($\\ln$), the trigonometric functions such as sine ($\\sin$) and cosine ($\\cos$), and quite a few other functions you have surely already used many times.\n",
        "\n",
        "*The same holds for the gamma function and the gamma distribution, more on that later.*\n",
        "___\n",
        "\n",
        "According to Dudewicz & Mishra, the pdf of a beta distribution is given by\n",
        "$$f^{DM}_X(x) = \\frac{x^{\\alpha^{DM}}(1-x)^{\\lambda^{DM}}}{\\beta^{DM}(\\alpha^{DM} + 1, \\lambda^{DM} + 1)},$$\n",
        "\n",
        "where $\\beta^{DM} = B^{W}$ is the beta function.  \n",
        "\n",
        "Once again, the difference in notation is slightly confusing, however, it is clear from their two equations that the pdfs $f_X^W$ and $f_X^{DM}$ are equivalent when shifting the shape parameters by $1$:\n",
        "\n",
        "$$f_X^W\\left(x; \\alpha^W, \\beta^W \\right) = \\frac{x^{\\overbrace{\\alpha^W-1}^{=\\alpha^{DM}}}(1-x)^{\\overbrace{\\beta^W -1}^{=\\lambda^{DM}}}}{\\underbrace{B^W(\\alpha^W, \\beta^W)}_{=\\beta^{DM}(\\alpha^{DM}+1, \\lambda^{DM}+1)}} = f_X^{W}\\left(x; \\alpha^{DM}+1, \\lambda^{DM} + 1\\right)\n",
        "$$\n",
        "and\n",
        "$$\n",
        "f_X^{DM}\\left(x; \\alpha^{DM}, \\lambda^{DM}\\right) = \\frac{x^{\\overbrace{\\alpha^{DM}}^{=\\alpha^W-1}}(1-x)^{\\overbrace{\\lambda^{DM}}^{=\\beta^W -1}}}{\\underbrace{\\beta^{DM}(\\alpha^{DM}+1, \\lambda^{DM}+1)}_{=B^W(\\alpha^W, \\beta^W)}}=f_X^{DM}\\left(x; \\alpha^W - 1, \\beta^W - 1 \\right)$$"
      ]
    },
    {
      "cell_type": "markdown",
      "metadata": {
        "id": "TV9FJ7xg6auD"
      },
      "source": [
        "Now that we have discussed the differences in notation and shown the equivalence between both sources, we can dive into the understanding of the beta distribution itself.  To alleviate the notation, we will drop the superscripts and go on using the notation from Dudewicz & Mishra, i.e. we write:  \n",
        "+ $f_X(x) \\equiv f_X^{DM}(x)$\n",
        "+ $\\alpha \\equiv \\alpha^{DM} = \\alpha^W - 1$\n",
        "+ $\\lambda \\equiv \\lambda^{DM} = \\beta^W - 1$\n",
        "+ $\\beta(x, y) \\equiv \\beta^{DM}(x, y) = B^W(x, y)$"
      ]
    },
    {
      "cell_type": "markdown",
      "metadata": {
        "id": "HwRW9oLn9psd"
      },
      "source": [
        "## Influence of the Parameters\n",
        "While it is difficult to make general statements on the influence of the shape parameters $\\alpha$ and $\\lambda$ on a beta distribution, a good starting point is to observe how the parameters impact the *mean*, the *variance*, the *skewness*, and the *excess kurtosis*.\n",
        "\n"
      ]
    },
    {
      "cell_type": "markdown",
      "metadata": {
        "id": "DUI4fgZGlldK"
      },
      "source": [
        "### Mean\n",
        "The first central moment of a random variable $X$ with the beta distribution $B(x \\mid \\alpha, \\lambda)$ is given by\n",
        "\n",
        "$$\\mathbb{E}[X] = \\mu = \\frac{1}{1 + \\frac{\\lambda + 1}{\\alpha + 1}}.$$\n",
        "\n",
        "We are quick to notice that $\\mu=\\frac{1}{2}$ whenever $\\alpha = \\lambda$, i.e. if both shape parameters are equal, the mean is *centered* on the support.\n",
        "\n",
        "Sometimes, pictures are worth a thousand words. Below is a [surface plot](https://en.wikipedia.org/wiki/Graph_of_a_function#Functions_of_two_variables) and a [contour plot](https://en.wikipedia.org/wiki/Contour_line) of how the mean of a beta distributed random variable is affected by its two shape parameters."
      ]
    },
    {
      "cell_type": "markdown",
      "metadata": {
        "id": "Sk3O8Fo-GeSE"
      },
      "source": [
        "![mean](https://i.ibb.co/rppHJ5v/mean-beta.png)"
      ]
    },
    {
      "cell_type": "markdown",
      "metadata": {
        "id": "PGgLgp-5kw8w"
      },
      "source": [
        "In general, for small values of $\\alpha$, the mean will be closer to $0$, while it will be close to $1$ for small values of $\\lambda$.\n",
        "\n",
        "Clearly, the mean is bounded by $0$ and $1$ as beta distributed random variables are only defined on the interval $[0, 1]$."
      ]
    },
    {
      "cell_type": "markdown",
      "metadata": {
        "id": "M8axtebfbUdI"
      },
      "source": [
        "### Variance\n",
        "\n",
        "The variance of a random variable $X$ with the beta distribution $B(x \\mid \\alpha, \\lambda)$ is given by\n",
        "\n",
        "$$ \\text{var}(X) = \\frac{(\\alpha +1)(\\lambda + 1)}{(\\alpha + \\lambda + 2)^2 (\\alpha + \\lambda + 3)}.$$\n",
        "\n",
        "As for the mean, we show a plot of how the combination of shape parameters affects the variance of the beta distribution."
      ]
    },
    {
      "cell_type": "markdown",
      "metadata": {
        "id": "eglGgX3uFkyf"
      },
      "source": [
        "![variance](https://i.ibb.co/WkyYstR/variance-beta.png)"
      ]
    },
    {
      "cell_type": "markdown",
      "metadata": {
        "id": "uf1lDqYgpj-q"
      },
      "source": [
        "We notice that the variance is bounded by $0.25$, which occurs at the limit where $\\lambda =-1$ and $\\alpha=-1$."
      ]
    },
    {
      "cell_type": "markdown",
      "metadata": {
        "id": "djugFkillneo"
      },
      "source": [
        "### Skewness\n",
        "The skewness of a random variable $X$ with the beta distribution $B(x \\mid \\alpha, \\lambda)$ is given by\n",
        "\n",
        "$$ \\text{skewness} = \\frac{2(\\lambda - \\alpha) \\sqrt{\\alpha + \\lambda + 3}}{(\\alpha + \\lambda + 4) \\sqrt{(\\alpha+1)(\\lambda+1)}}.$$\n",
        "\n",
        "Once again, we quickly notice how the beta distribution must be symmetric when $\\alpha = \\lambda$, since $\\lambda-\\alpha=0$ will make the skewness equal to zero in case of equality of the shape parameters.\n",
        "\n",
        "Furthermore, since $\\lambda - \\alpha$ governs the sign of the skew, we observe that whenever $\\lambda > \\alpha$, the beta distribution will be right-skewed (positive skewness), whereas it will be left-skewed (negative skewness) whenever $\\lambda < \\alpha$.\n",
        "\n",
        "As above, we show a plot of how the combination of shape parameters affects the skewness of the beta distribution."
      ]
    },
    {
      "cell_type": "markdown",
      "metadata": {
        "id": "E_-iADUzlnhR"
      },
      "source": [
        "![skew](https://i.ibb.co/7YQfwML/skewness-beta.png)"
      ]
    },
    {
      "cell_type": "markdown",
      "metadata": {
        "id": "c_7NFsh5p17I"
      },
      "source": [
        "Notice for this plot, that we have cut off both shape parameters at $-0.9$. The reason is that the skewness *explodes* as either shape parameter gets closer to $-1$."
      ]
    },
    {
      "cell_type": "markdown",
      "metadata": {
        "id": "ZRxL0Gc5lns9"
      },
      "source": [
        "### Excess Kurtosis\n",
        "\n",
        "The excess kurtosis of a random variable $X$ with the beta distribution $B(x \\mid \\alpha, \\lambda)$ is given by\n",
        "\n",
        "$$ \\text{excess kurtosis} = \\frac{6[(\\alpha+1)^3 - (\\alpha+1)^2(2\\lambda + 1) + (\\lambda+1)^2(\\lambda + 2) -2 (\\alpha+1)(\\lambda +1)(\\lambda + 3)}{(\\alpha + 1)(\\lambda + 1)(\\alpha + \\lambda + 4)(\\alpha + \\lambda + 5)}.$$\n",
        "\n",
        "As above, we show a plot of how the combination of shape parameters affects the skewness of the beta distribution."
      ]
    },
    {
      "cell_type": "markdown",
      "metadata": {
        "id": "mqFOY2tGlnv2"
      },
      "source": [
        "![kurtosis](https://i.ibb.co/n6VZ20m/kurtosis-beta.png)"
      ]
    },
    {
      "cell_type": "markdown",
      "metadata": {
        "id": "daw1jAEgtD_H"
      },
      "source": [
        "Similarly to the skewness, the excess kurtosis *explodes* for small values of the shape parameters, consequently, we cut off the plot at $-0.5$ for both the $\\alpha$ and $\\lambda$ parameters.\n",
        "\n",
        "While the equation is slightly more intricate and it would take us time and nerves to unwrap, the plot clearly shows how *in general*, the beta distribution has rather thin tails, however, for small values of $\\alpha$ and large values of $\\lambda$ (or large values of $\\alpha$ and small values of $\\lambda$), the beta distribution can exhibit quite heavy tails."
      ]
    },
    {
      "cell_type": "markdown",
      "metadata": {
        "id": "x2aIL6vcXQp4"
      },
      "source": [
        "### An Interactive Example\n",
        "Play around with the parameters in the example below to see how the probability density function of a beta distributions changes as you shift the shape parameters!\n",
        "\n",
        "**Note that you will need to first execute the cells below in order for the interactive plot to work (either shift+enter or in the menu \"Runtime > Run all\"). The Python code in itself is not meant to be didactic, only the interactive plot it creates. Hence you can safely ignore the code.**"
      ]
    },
    {
      "cell_type": "code",
      "metadata": {
        "id": "-rAXH9YRbZh5"
      },
      "source": [
        "# Import necessary packages / functions\n",
        "import numpy as np\n",
        "import matplotlib.pyplot as plt\n",
        "import ipywidgets as widgets\n",
        "from scipy.special import gamma\n",
        "# Beta function\n",
        "beta = lambda x, y: gamma(x)*gamma(y)/gamma(x+y)"
      ],
      "execution_count": null,
      "outputs": []
    },
    {
      "cell_type": "code",
      "metadata": {
        "id": "GSobpnLvYaMG"
      },
      "source": [
        "# Define plotting function\n",
        "def plot_pdf_beta(shape_alpha, shape_lambda, y_axis_ub):\n",
        "  # Prettier plots, for some strange reason this must be in the function, \n",
        "  # seems to be a bug with ipywidgets\n",
        "  plt.style.use(\"dark_background\") \n",
        "  x = np.linspace(0, 1, 1_000)\n",
        "  # Compute the pdf\n",
        "  pdf = (pow(x, shape_alpha)*pow(1-x, shape_lambda))/beta(shape_alpha+1, shape_lambda+1)\n",
        "  # Plot the pdf\n",
        "  fig, ax = plt.subplots(figsize=(12, 8))\n",
        "  ax.grid(alpha=0.3)\n",
        "  ax.set_ylim([0, y_axis_ub])\n",
        "  ax.plot(x, pdf)\n",
        "  ax.set_title(\n",
        "      r\"PDF of a beta distribution with $\\alpha = {}$ and $\\lambda = {}$\"\\\n",
        "      .format(shape_alpha, shape_lambda))\n",
        "  ax.set_xlabel(\"$x$\")\n",
        "  ax.set_ylabel(\"$f_X(x)$\")\n",
        "  plt.show()"
      ],
      "execution_count": null,
      "outputs": []
    },
    {
      "cell_type": "code",
      "metadata": {
        "id": "AFJgYcISa5ik"
      },
      "source": [
        "# Create sliders for alpha and lambda\n",
        "slider_alpha = widgets.FloatSlider(value=1, min=-0.99, max=10, \n",
        "                                   description=\"alpha\")\n",
        "slider_lambda = widgets.FloatSlider(value=1, min=-0.99, max=10, \n",
        "                                    description=\"lambda\")\n",
        "# Fix y-axis\n",
        "y_axis = widgets.FloatSlider(value=2.5, min=2.5, max=1000, \n",
        "                                  description=\"y-axis bound\")\n",
        "widgets.interact(plot_pdf_beta, shape_alpha=slider_alpha, \n",
        "                 shape_lambda=slider_lambda, y_axis_ub=y_axis)"
      ],
      "execution_count": null,
      "outputs": []
    },
    {
      "cell_type": "markdown",
      "metadata": {
        "id": "VErA6CEAvBd3"
      },
      "source": [
        "___\n",
        "# The Gamma Distribution"
      ]
    },
    {
      "cell_type": "markdown",
      "metadata": {
        "id": "AzWiUnMD_fvk"
      },
      "source": [
        "## Parameters\n",
        "The gamma distribution is fully parametrized by three parameters. Depending on the source, these parameters are called somewhat differently:  \n",
        "+ Following [Wikipedia](https://en.wikipedia.org/wiki/Gamma_distribution) there are two different notations commonly used:  \n",
        "  + A **shape** parameter $k$ and a **scale** parameter $\\theta$\n",
        "  + A **shape** parameter $\\alpha = k$ and a **rate** parameter $\\beta = \\frac{1}{\\theta}$\n",
        "+ Following Dudewicz & Mishra, the **shape** parameter is denoted by $\\alpha$ and the **scale** parameter is denoted by $\\beta$. Additionally, they present the distribution with a **displacement** parameter $A$; this parameter is not present in Wikipedia's notation, making the gamma distribution, as given by Wikipedia, a special case of the one given by Dudewicz & Mishra (the case where $A = 0$).\n",
        "\n",
        "We will once again make use of superscripts to make clear which notation we are referring to. The equivalence between parameters across different notations are the following:\n",
        "\n",
        "$$\\begin{align}\n",
        "\\alpha^{DM} + 1 &= k^W = \\alpha^W \\\\\n",
        "\\beta^{DM} &= \\theta^W = \\frac{1}{\\beta^W}\n",
        "\\end{align}\n",
        "$$\n",
        "\n",
        "Note that the displacement parameter $A^{DM}$ does not have an equivalence in the notations on Wikipedia. Intuitively, you can think of the displacement parameter as a parameter that *shifts* the pdf along the x-axis; it does not impact the shape of the pdf but only its location.\n",
        "\n",
        "Because of this different parametrization, the gamma distribution in Dudewicz & Mishra is more flexible. It is defined on the interval $(A^{DM}, \\infty)$ while the gamma distribution according to Wikipedia is only defined on the interval $(0, \\infty)$.\n",
        "\n",
        "___\n",
        "For instance, a gamma distribution specified according to Dudewicz & Mishra with $A^{DM}=0$, $\\alpha^{DM} = 5$, and $\\beta^{DM} = \\frac{1}{2}$ is **the exact same distribution** as one specified according to Wikipedia's notations using either $k^W = 6$ and $\\theta^W = \\frac{1}{2}$, or using $\\alpha^W = 6$ and $\\beta^W = 2$. \n",
        "___\n",
        "\n",
        "The gamma distribution is only defined for $\\alpha^{DM} > -1$ and $\\beta^{DM} >0$, or, equivalently, $k^W > 0$ and $\\theta^W > 0$, or, equivalently, $\\alpha^W > 0$ and $\\beta^W > 0$.\n",
        "\n",
        "**In summary, the parameters have a similar purpose across notation, however, the displacement parameter does not have an equivalent in Wikipedia's notation, making Dudewicz & Mishra's notation more flexible.**"
      ]
    },
    {
      "cell_type": "markdown",
      "metadata": {
        "id": "qT0oRITy_hSu"
      },
      "source": [
        "## Probability Density Function\n",
        "\n",
        "To simplify a bit, we only focus on Wikipedia's notation using the **scale** parameter, i.e. the parametrization with $k^W$ and $\\theta^W$. Changing between both parametrizations is trivial as the **rate** parameter is nothing but the inverse of the **scale** parameter; everything else is the same across both parametrization (if not for the **shape** parameter being denoted by a different letter). Because of this, we also drop the superscripts as the letters used for different parameters are not shared across the notation by Wikipedia and the one by Dudewicz & Mishra, i.e. we write:\n",
        "\n",
        "$$\n",
        "\\begin{align}\n",
        "k &\\equiv k^W \\\\\n",
        "\\theta &\\equiv \\theta^W \\\\\n",
        "\\alpha &\\equiv \\alpha^{DM} \\\\\n",
        "\\beta &\\equiv \\beta^{DM}\n",
        "\\end{align},$$\n",
        "\n",
        "and we ignore Wikipedia's notation using the **scale** parameter for the rest of this notebook.\n",
        "\n",
        "Using this parametrization, Wikipedia gives the pdf as\n",
        "$$f_X^W(x)=\\frac{1}{\\theta^k \\Gamma(k)}x^{k-1} e^{-\\frac{x}{\\theta}},$$\n",
        "\n",
        "with $\\Gamma$ being the gamma function ([see above](#gamma-function)).\n",
        "___\n",
        "**Do not confuse the gamma function and the gamma distribution!**\n",
        "\n",
        "Recall what we discussed about the beta function and the beta distribution, the same holds for the gamma function and gamma distribution.\n",
        "\n",
        "The gamma *function* is an important mathematical function with many applications. The gamma *distribution* is just one of these applications\n",
        "___\n",
        "\n",
        "According to Dudewicz & Mishra, the pdf of a gamma distribution is given by\n",
        "$$f_X^{DM}(x) = \\frac{1}{\\beta^{\\alpha +1} \\Gamma(\\alpha + 1)}(x-A)^\\alpha e^{-\\frac{(x-A)}{\\beta}}.$$\n",
        "\n",
        "Comparing $f_X^{DM}$ and $f_X^W$ we can clearly see how both pdfs boil down to the same equation when the displacement parameter $A$ is set to $0$:\n",
        "\n",
        "$$f_X^W(x; k, \\theta) = \\frac{1}{\\underbrace{\\theta^k}_{=\\beta^{\\alpha+1}} \\Gamma(\\underbrace{k}_{=\\alpha+1})}x^{\\overbrace{k-1}^{=\\alpha}} e^{\\overbrace{-\\frac{x}{\\theta}}^{=-\\frac{x}{\\beta}}} = f_X^W(x; \\alpha + 1, \\beta)$$\n",
        "\n",
        "and\n",
        "\n",
        "$$f_X^{DM}(x; \\alpha, \\beta, A) = \\frac{1}{\\underbrace{\\beta^{\\alpha+1}}_{=\\theta^k} \\Gamma(\\underbrace{\\alpha+1}_{=k})}(x-A)^{\\overbrace{\\alpha}^{=k-1}} e^{\\overbrace{-\\frac{(x-A)}{\\beta}}^{=-\\frac{x}{\\theta}}}= f_X^{DM}(x; k-1, \\theta, A)$$\n",
        "\n",
        "The differences in notation being cleared up, we now turn to the influence of the parameters on the gamma distribution."
      ]
    },
    {
      "cell_type": "markdown",
      "metadata": {
        "id": "Uavw0P1K_lOp"
      },
      "source": [
        "## Influence of the Parameters\n",
        "Akin to the beta distribution, we will observe the impact of parameters on the *mean*, *variance*, *skewness* and *excess kurtosis* of the distribution.\n",
        "\n",
        "In order to keep things simple, we will keep the displacement parameter $A$ set to zero. As mentioned above, $A$ does not impact the shape of the pdf but only its location on the x-axis. Consequently, it cannot have an impact on the *variance*, *skewness* or even *excess kurtosis*, its only impact is on the mean, shifting it by $A$.\n",
        "\n",
        "This is made clear by the animation below, plotting the pdf of a gamma distribution where the shape $\\alpha=4$ and rate $\\beta =1$ parameters are held constant, while the displacement parameter takes values on the interval $[-4, 10]$."
      ]
    },
    {
      "cell_type": "markdown",
      "metadata": {
        "id": "swEs_VbEJdwN"
      },
      "source": [
        "![gamma-displacement](https://i.ibb.co/zSZs5QY/gamma-displacement.gif)"
      ]
    },
    {
      "cell_type": "markdown",
      "metadata": {
        "id": "FtR8RU72_n6j"
      },
      "source": [
        "### Mean\n",
        "\n",
        "The mean of a random variable $X$ with gamma distribution $G(x \\mid \\alpha, \\beta, A)$ is given by\n",
        "\n",
        "$$\\mathbb{E}[X] = \\mu = (\\alpha + 1)\\beta + A$$\n",
        "\n",
        "It is quite clear from the equation, that the mean of a gamma distribution is increasing in its shape, scale and displacement parameters."
      ]
    },
    {
      "cell_type": "markdown",
      "metadata": {
        "id": "MnmYxSCyPI6T"
      },
      "source": [
        "![mean-gamma](https://i.ibb.co/p1Hb9GG/mean-gamma.png)"
      ]
    },
    {
      "cell_type": "markdown",
      "metadata": {
        "id": "cQoxb8tC_o3m"
      },
      "source": [
        "### Variance\n",
        "\n",
        "The variance of a random variable $X$ with gamma distribution $G(x \\mid \\alpha, \\beta, A)$ is\n",
        "\n",
        "$$\\text{var}(X) = (\\alpha+1) \\beta^2$$\n",
        "\n",
        "As explained above, we see that the displacement parameter does not have an impact on the variance, furthermore we observe that the scale parameter enters the variance formula as a squared term and thus it will have a much greater impact on the variance than the shape parameters for values of $\\beta > 1$."
      ]
    },
    {
      "cell_type": "markdown",
      "metadata": {
        "id": "3yBZ-bD0OeQQ"
      },
      "source": [
        "![variance-gamma](https://i.ibb.co/CsR7Lps/variance-gamma.png)"
      ]
    },
    {
      "cell_type": "markdown",
      "metadata": {
        "id": "dzntql_c_p9d"
      },
      "source": [
        "### Skewness\n",
        "\n",
        "The skewness of a random variable $X$ with gamma distribution $G(x \\mid \\alpha, \\beta, A)$ is given by\n",
        "\n",
        "$$\\text{skewness} = \\frac{2}{\\sqrt{\\alpha+1}}.$$\n",
        "\n",
        "Hence, the skewness is always positive (right-skew) and it only depends on the shape parameter $\\alpha$. In particular, the skew becomes very large for small values of $\\alpha$, which is why the following plot is cut off at $\\alpha = -0.9$."
      ]
    },
    {
      "cell_type": "markdown",
      "metadata": {
        "id": "26ivCYLPOhc1"
      },
      "source": [
        "![skewness-gamma](https://i.ibb.co/68GY7q3/skewness-gamma.png)"
      ]
    },
    {
      "cell_type": "markdown",
      "metadata": {
        "id": "pSzfwCVD_rRW"
      },
      "source": [
        "### Excess Kurtosis\n",
        "\n",
        "The excess kurtosis of a random variable $X$ with gamma distribution $G(x \\mid \\alpha, \\beta, A)$ is given by\n",
        "\n",
        "$$\\text{excess kurtosis} = \\frac{6}{\\alpha + 1}.$$\n",
        "\n",
        "Akin to the skewness, the excess kurtosis of a gamma distribution is always positive, i.e. gamma distributions exhibit heavier tails than normal distributions. Furthermore, the excess kurtosis is uniquely impacted by the shape parameter and it *explodes* for small values of $\\alpha$, which is why the following plot is cut off at $\\alpha = -0.5$."
      ]
    },
    {
      "cell_type": "markdown",
      "metadata": {
        "id": "SXM5vaVROZ9d"
      },
      "source": [
        "![kurtosis-gamma](https://i.ibb.co/GppZH3F/kurtosis-gamma.png)"
      ]
    },
    {
      "cell_type": "markdown",
      "metadata": {
        "id": "N-7JibBcez03"
      },
      "source": [
        "### An Interactive Example\n",
        "Play around with the parameters in the example below to see how the probability density function of a gamma distributions changes as you shift the shape, rate, and displacement parameters!"
      ]
    },
    {
      "cell_type": "code",
      "metadata": {
        "id": "htRixAWie4nH"
      },
      "source": [
        "# Define plotting function\n",
        "def plot_pdf_gamma(alpha, beta, A, y_axis_ub, x_axis_ub):\n",
        "  plt.style.use(\"dark_background\") \n",
        "  x = np.linspace(A+1e-10, x_axis_ub, 1_000)\n",
        "  # Compute the pdf\n",
        "  pdf = 1/(pow(beta, alpha+1)*gamma(alpha+1))*pow(x-A, alpha)*np.exp((A-x)/beta)\n",
        "  # Plot the pdf\n",
        "  fig, ax = plt.subplots(figsize=(12, 8))\n",
        "  ax.grid(alpha=0.3)\n",
        "  ax.set_ylim([0, y_axis_ub])\n",
        "  ax.set_xlim([A, x_axis_ub])\n",
        "  ax.plot(x, pdf)\n",
        "  ax.set_title(r\"PDF of a gamma distribution with $\\alpha = {}$, $\\beta = {}$, and $A= {}$\".format(\n",
        "      alpha, beta, A))\n",
        "  ax.set_xlabel(\"$x$\")\n",
        "  ax.set_ylabel(\"$f_X(x)$\")\n",
        "  plt.show()"
      ],
      "execution_count": null,
      "outputs": []
    },
    {
      "cell_type": "code",
      "metadata": {
        "id": "ABnrKoP-e8mu"
      },
      "source": [
        "# Create sliders for alpha and lambda\n",
        "slider_alpha = widgets.FloatSlider(value=10, min=-0.99, max=10, \n",
        "                                   description=\"alpha\")\n",
        "slider_beta = widgets.FloatSlider(value=0.5, min=0.01, max=11, \n",
        "                                  description=\"beta\")\n",
        "slider_a = widgets.FloatSlider(min=-10, max=10, description=\"A\")\n",
        "# Fix x-/y-axis\n",
        "x_axis = widgets.FloatSlider(value=20, min=10, max=1000, \n",
        "                                  description=\"x-axis bound\")\n",
        "y_axis = widgets.FloatSlider(value=0.5, min=0.5, max=1000, \n",
        "                                  description=\"y-axis bound\")\n",
        "widgets.interact(plot_pdf_gamma, alpha=slider_alpha, beta=slider_beta, \n",
        "                 A=slider_a, y_axis_ub=y_axis, x_axis_ub=x_axis)"
      ],
      "execution_count": null,
      "outputs": []
    }
  ]
}