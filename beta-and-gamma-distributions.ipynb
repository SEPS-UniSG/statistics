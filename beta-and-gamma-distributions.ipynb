{
  "nbformat": 4,
  "nbformat_minor": 0,
  "metadata": {
    "colab": {
      "name": "Copy of beta-and-gamma-distributions.ipynb",
      "provenance": [],
      "collapsed_sections": [],
      "toc_visible": true
    },
    "kernelspec": {
      "name": "python3",
      "display_name": "Python 3"
    },
    "language_info": {
      "name": "python"
    },
    "widgets": {
      "application/vnd.jupyter.widget-state+json": {
        "c2491b51d16b404d9a40b79d9ecf8884": {
          "model_module": "@jupyter-widgets/controls",
          "model_name": "VBoxModel",
          "model_module_version": "1.5.0",
          "state": {
            "_view_name": "VBoxView",
            "_dom_classes": [
              "widget-interact"
            ],
            "_model_name": "VBoxModel",
            "_view_module": "@jupyter-widgets/controls",
            "_model_module_version": "1.5.0",
            "_view_count": null,
            "_view_module_version": "1.5.0",
            "box_style": "",
            "layout": "IPY_MODEL_e4c24a5047994cdf85045309e6eeb460",
            "_model_module": "@jupyter-widgets/controls",
            "children": [
              "IPY_MODEL_3ac6c07dd1644b6aac437ac377e4f608",
              "IPY_MODEL_627da86a2f0b40b3ae3702ec965ccd55",
              "IPY_MODEL_3f37670ed1ce44c1a17a9ebcfee4c9f1",
              "IPY_MODEL_733e2377e72d4f779fa0e44783ee8a18"
            ]
          }
        },
        "e4c24a5047994cdf85045309e6eeb460": {
          "model_module": "@jupyter-widgets/base",
          "model_name": "LayoutModel",
          "model_module_version": "1.2.0",
          "state": {
            "_view_name": "LayoutView",
            "grid_template_rows": null,
            "right": null,
            "justify_content": null,
            "_view_module": "@jupyter-widgets/base",
            "overflow": null,
            "_model_module_version": "1.2.0",
            "_view_count": null,
            "flex_flow": null,
            "width": null,
            "min_width": null,
            "border": null,
            "align_items": null,
            "bottom": null,
            "_model_module": "@jupyter-widgets/base",
            "top": null,
            "grid_column": null,
            "overflow_y": null,
            "overflow_x": null,
            "grid_auto_flow": null,
            "grid_area": null,
            "grid_template_columns": null,
            "flex": null,
            "_model_name": "LayoutModel",
            "justify_items": null,
            "grid_row": null,
            "max_height": null,
            "align_content": null,
            "visibility": null,
            "align_self": null,
            "height": null,
            "min_height": null,
            "padding": null,
            "grid_auto_rows": null,
            "grid_gap": null,
            "max_width": null,
            "order": null,
            "_view_module_version": "1.2.0",
            "grid_template_areas": null,
            "object_position": null,
            "object_fit": null,
            "grid_auto_columns": null,
            "margin": null,
            "display": null,
            "left": null
          }
        },
        "3ac6c07dd1644b6aac437ac377e4f608": {
          "model_module": "@jupyter-widgets/controls",
          "model_name": "FloatSliderModel",
          "model_module_version": "1.5.0",
          "state": {
            "_view_name": "FloatSliderView",
            "style": "IPY_MODEL_7069e3c98eee4b9581043297896ede36",
            "_dom_classes": [],
            "description": "alpha",
            "step": 0.1,
            "_model_name": "FloatSliderModel",
            "orientation": "horizontal",
            "max": 10,
            "_view_module": "@jupyter-widgets/controls",
            "_model_module_version": "1.5.0",
            "value": 1,
            "_view_count": null,
            "disabled": false,
            "_view_module_version": "1.5.0",
            "min": -0.99,
            "continuous_update": true,
            "readout_format": ".2f",
            "description_tooltip": null,
            "readout": true,
            "_model_module": "@jupyter-widgets/controls",
            "layout": "IPY_MODEL_28693ede87c844848ccc795acb5bdb85"
          }
        },
        "627da86a2f0b40b3ae3702ec965ccd55": {
          "model_module": "@jupyter-widgets/controls",
          "model_name": "FloatSliderModel",
          "model_module_version": "1.5.0",
          "state": {
            "_view_name": "FloatSliderView",
            "style": "IPY_MODEL_d663908dd10d4698a05121bdfb441654",
            "_dom_classes": [],
            "description": "lambda",
            "step": 0.1,
            "_model_name": "FloatSliderModel",
            "orientation": "horizontal",
            "max": 10,
            "_view_module": "@jupyter-widgets/controls",
            "_model_module_version": "1.5.0",
            "value": 1,
            "_view_count": null,
            "disabled": false,
            "_view_module_version": "1.5.0",
            "min": -0.99,
            "continuous_update": true,
            "readout_format": ".2f",
            "description_tooltip": null,
            "readout": true,
            "_model_module": "@jupyter-widgets/controls",
            "layout": "IPY_MODEL_dd37b49849c342c2ba3561c045ec7fe7"
          }
        },
        "3f37670ed1ce44c1a17a9ebcfee4c9f1": {
          "model_module": "@jupyter-widgets/controls",
          "model_name": "FloatSliderModel",
          "model_module_version": "1.5.0",
          "state": {
            "_view_name": "FloatSliderView",
            "style": "IPY_MODEL_a41962c12f5c4477a9816b089f0a5268",
            "_dom_classes": [],
            "description": "y-axis bound",
            "step": 0.1,
            "_model_name": "FloatSliderModel",
            "orientation": "horizontal",
            "max": 1000,
            "_view_module": "@jupyter-widgets/controls",
            "_model_module_version": "1.5.0",
            "value": 2.5,
            "_view_count": null,
            "disabled": false,
            "_view_module_version": "1.5.0",
            "min": 2.5,
            "continuous_update": true,
            "readout_format": ".2f",
            "description_tooltip": null,
            "readout": true,
            "_model_module": "@jupyter-widgets/controls",
            "layout": "IPY_MODEL_959e2ed4c7e04447ad0cb7958d5197df"
          }
        },
        "733e2377e72d4f779fa0e44783ee8a18": {
          "model_module": "@jupyter-widgets/output",
          "model_name": "OutputModel",
          "model_module_version": "1.0.0",
          "state": {
            "_view_name": "OutputView",
            "msg_id": "",
            "_dom_classes": [],
            "_model_name": "OutputModel",
            "outputs": [
              {
                "output_type": "display_data",
                "data": {
                  "image/png": "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\n",
                  "text/plain": "<Figure size 864x576 with 1 Axes>"
                },
                "metadata": {}
              }
            ],
            "_view_module": "@jupyter-widgets/output",
            "_model_module_version": "1.0.0",
            "_view_count": null,
            "_view_module_version": "1.0.0",
            "layout": "IPY_MODEL_9f6e97dcf67a47d69fd5019e7c079102",
            "_model_module": "@jupyter-widgets/output"
          }
        },
        "7069e3c98eee4b9581043297896ede36": {
          "model_module": "@jupyter-widgets/controls",
          "model_name": "SliderStyleModel",
          "model_module_version": "1.5.0",
          "state": {
            "_view_name": "StyleView",
            "handle_color": null,
            "_model_name": "SliderStyleModel",
            "description_width": "",
            "_view_module": "@jupyter-widgets/base",
            "_model_module_version": "1.5.0",
            "_view_count": null,
            "_view_module_version": "1.2.0",
            "_model_module": "@jupyter-widgets/controls"
          }
        },
        "28693ede87c844848ccc795acb5bdb85": {
          "model_module": "@jupyter-widgets/base",
          "model_name": "LayoutModel",
          "model_module_version": "1.2.0",
          "state": {
            "_view_name": "LayoutView",
            "grid_template_rows": null,
            "right": null,
            "justify_content": null,
            "_view_module": "@jupyter-widgets/base",
            "overflow": null,
            "_model_module_version": "1.2.0",
            "_view_count": null,
            "flex_flow": null,
            "width": null,
            "min_width": null,
            "border": null,
            "align_items": null,
            "bottom": null,
            "_model_module": "@jupyter-widgets/base",
            "top": null,
            "grid_column": null,
            "overflow_y": null,
            "overflow_x": null,
            "grid_auto_flow": null,
            "grid_area": null,
            "grid_template_columns": null,
            "flex": null,
            "_model_name": "LayoutModel",
            "justify_items": null,
            "grid_row": null,
            "max_height": null,
            "align_content": null,
            "visibility": null,
            "align_self": null,
            "height": null,
            "min_height": null,
            "padding": null,
            "grid_auto_rows": null,
            "grid_gap": null,
            "max_width": null,
            "order": null,
            "_view_module_version": "1.2.0",
            "grid_template_areas": null,
            "object_position": null,
            "object_fit": null,
            "grid_auto_columns": null,
            "margin": null,
            "display": null,
            "left": null
          }
        },
        "d663908dd10d4698a05121bdfb441654": {
          "model_module": "@jupyter-widgets/controls",
          "model_name": "SliderStyleModel",
          "model_module_version": "1.5.0",
          "state": {
            "_view_name": "StyleView",
            "handle_color": null,
            "_model_name": "SliderStyleModel",
            "description_width": "",
            "_view_module": "@jupyter-widgets/base",
            "_model_module_version": "1.5.0",
            "_view_count": null,
            "_view_module_version": "1.2.0",
            "_model_module": "@jupyter-widgets/controls"
          }
        },
        "dd37b49849c342c2ba3561c045ec7fe7": {
          "model_module": "@jupyter-widgets/base",
          "model_name": "LayoutModel",
          "model_module_version": "1.2.0",
          "state": {
            "_view_name": "LayoutView",
            "grid_template_rows": null,
            "right": null,
            "justify_content": null,
            "_view_module": "@jupyter-widgets/base",
            "overflow": null,
            "_model_module_version": "1.2.0",
            "_view_count": null,
            "flex_flow": null,
            "width": null,
            "min_width": null,
            "border": null,
            "align_items": null,
            "bottom": null,
            "_model_module": "@jupyter-widgets/base",
            "top": null,
            "grid_column": null,
            "overflow_y": null,
            "overflow_x": null,
            "grid_auto_flow": null,
            "grid_area": null,
            "grid_template_columns": null,
            "flex": null,
            "_model_name": "LayoutModel",
            "justify_items": null,
            "grid_row": null,
            "max_height": null,
            "align_content": null,
            "visibility": null,
            "align_self": null,
            "height": null,
            "min_height": null,
            "padding": null,
            "grid_auto_rows": null,
            "grid_gap": null,
            "max_width": null,
            "order": null,
            "_view_module_version": "1.2.0",
            "grid_template_areas": null,
            "object_position": null,
            "object_fit": null,
            "grid_auto_columns": null,
            "margin": null,
            "display": null,
            "left": null
          }
        },
        "a41962c12f5c4477a9816b089f0a5268": {
          "model_module": "@jupyter-widgets/controls",
          "model_name": "SliderStyleModel",
          "model_module_version": "1.5.0",
          "state": {
            "_view_name": "StyleView",
            "handle_color": null,
            "_model_name": "SliderStyleModel",
            "description_width": "",
            "_view_module": "@jupyter-widgets/base",
            "_model_module_version": "1.5.0",
            "_view_count": null,
            "_view_module_version": "1.2.0",
            "_model_module": "@jupyter-widgets/controls"
          }
        },
        "959e2ed4c7e04447ad0cb7958d5197df": {
          "model_module": "@jupyter-widgets/base",
          "model_name": "LayoutModel",
          "model_module_version": "1.2.0",
          "state": {
            "_view_name": "LayoutView",
            "grid_template_rows": null,
            "right": null,
            "justify_content": null,
            "_view_module": "@jupyter-widgets/base",
            "overflow": null,
            "_model_module_version": "1.2.0",
            "_view_count": null,
            "flex_flow": null,
            "width": null,
            "min_width": null,
            "border": null,
            "align_items": null,
            "bottom": null,
            "_model_module": "@jupyter-widgets/base",
            "top": null,
            "grid_column": null,
            "overflow_y": null,
            "overflow_x": null,
            "grid_auto_flow": null,
            "grid_area": null,
            "grid_template_columns": null,
            "flex": null,
            "_model_name": "LayoutModel",
            "justify_items": null,
            "grid_row": null,
            "max_height": null,
            "align_content": null,
            "visibility": null,
            "align_self": null,
            "height": null,
            "min_height": null,
            "padding": null,
            "grid_auto_rows": null,
            "grid_gap": null,
            "max_width": null,
            "order": null,
            "_view_module_version": "1.2.0",
            "grid_template_areas": null,
            "object_position": null,
            "object_fit": null,
            "grid_auto_columns": null,
            "margin": null,
            "display": null,
            "left": null
          }
        },
        "9f6e97dcf67a47d69fd5019e7c079102": {
          "model_module": "@jupyter-widgets/base",
          "model_name": "LayoutModel",
          "model_module_version": "1.2.0",
          "state": {
            "_view_name": "LayoutView",
            "grid_template_rows": null,
            "right": null,
            "justify_content": null,
            "_view_module": "@jupyter-widgets/base",
            "overflow": null,
            "_model_module_version": "1.2.0",
            "_view_count": null,
            "flex_flow": null,
            "width": null,
            "min_width": null,
            "border": null,
            "align_items": null,
            "bottom": null,
            "_model_module": "@jupyter-widgets/base",
            "top": null,
            "grid_column": null,
            "overflow_y": null,
            "overflow_x": null,
            "grid_auto_flow": null,
            "grid_area": null,
            "grid_template_columns": null,
            "flex": null,
            "_model_name": "LayoutModel",
            "justify_items": null,
            "grid_row": null,
            "max_height": null,
            "align_content": null,
            "visibility": null,
            "align_self": null,
            "height": null,
            "min_height": null,
            "padding": null,
            "grid_auto_rows": null,
            "grid_gap": null,
            "max_width": null,
            "order": null,
            "_view_module_version": "1.2.0",
            "grid_template_areas": null,
            "object_position": null,
            "object_fit": null,
            "grid_auto_columns": null,
            "margin": null,
            "display": null,
            "left": null
          }
        },
        "25a14ea8dd6243beade168c6f21910f1": {
          "model_module": "@jupyter-widgets/controls",
          "model_name": "VBoxModel",
          "model_module_version": "1.5.0",
          "state": {
            "_view_name": "VBoxView",
            "_dom_classes": [
              "widget-interact"
            ],
            "_model_name": "VBoxModel",
            "_view_module": "@jupyter-widgets/controls",
            "_model_module_version": "1.5.0",
            "_view_count": null,
            "_view_module_version": "1.5.0",
            "box_style": "",
            "layout": "IPY_MODEL_d5528cb748184491b649d7d5d9c63c32",
            "_model_module": "@jupyter-widgets/controls",
            "children": [
              "IPY_MODEL_b206881896204228bee314c401ff10f5",
              "IPY_MODEL_9a0d0b2e93d54dab80ff3eedf951f57b",
              "IPY_MODEL_c92ae291590048878362d49418743910",
              "IPY_MODEL_d1ebb424d08e45918dd5aeb46cd93c03",
              "IPY_MODEL_351167522aa24486aa5f514cfec44407",
              "IPY_MODEL_6a9037a1748b4343b3460c7915ace28c"
            ]
          }
        },
        "d5528cb748184491b649d7d5d9c63c32": {
          "model_module": "@jupyter-widgets/base",
          "model_name": "LayoutModel",
          "model_module_version": "1.2.0",
          "state": {
            "_view_name": "LayoutView",
            "grid_template_rows": null,
            "right": null,
            "justify_content": null,
            "_view_module": "@jupyter-widgets/base",
            "overflow": null,
            "_model_module_version": "1.2.0",
            "_view_count": null,
            "flex_flow": null,
            "width": null,
            "min_width": null,
            "border": null,
            "align_items": null,
            "bottom": null,
            "_model_module": "@jupyter-widgets/base",
            "top": null,
            "grid_column": null,
            "overflow_y": null,
            "overflow_x": null,
            "grid_auto_flow": null,
            "grid_area": null,
            "grid_template_columns": null,
            "flex": null,
            "_model_name": "LayoutModel",
            "justify_items": null,
            "grid_row": null,
            "max_height": null,
            "align_content": null,
            "visibility": null,
            "align_self": null,
            "height": null,
            "min_height": null,
            "padding": null,
            "grid_auto_rows": null,
            "grid_gap": null,
            "max_width": null,
            "order": null,
            "_view_module_version": "1.2.0",
            "grid_template_areas": null,
            "object_position": null,
            "object_fit": null,
            "grid_auto_columns": null,
            "margin": null,
            "display": null,
            "left": null
          }
        },
        "b206881896204228bee314c401ff10f5": {
          "model_module": "@jupyter-widgets/controls",
          "model_name": "FloatSliderModel",
          "model_module_version": "1.5.0",
          "state": {
            "_view_name": "FloatSliderView",
            "style": "IPY_MODEL_6ba19904f12d470da17959db2c96e15d",
            "_dom_classes": [],
            "description": "alpha",
            "step": 0.1,
            "_model_name": "FloatSliderModel",
            "orientation": "horizontal",
            "max": 10,
            "_view_module": "@jupyter-widgets/controls",
            "_model_module_version": "1.5.0",
            "value": 10,
            "_view_count": null,
            "disabled": false,
            "_view_module_version": "1.5.0",
            "min": -0.99,
            "continuous_update": true,
            "readout_format": ".2f",
            "description_tooltip": null,
            "readout": true,
            "_model_module": "@jupyter-widgets/controls",
            "layout": "IPY_MODEL_c42fd2479b2a477996b7cc2080930022"
          }
        },
        "9a0d0b2e93d54dab80ff3eedf951f57b": {
          "model_module": "@jupyter-widgets/controls",
          "model_name": "FloatSliderModel",
          "model_module_version": "1.5.0",
          "state": {
            "_view_name": "FloatSliderView",
            "style": "IPY_MODEL_56220ef288d846c883f5db45d3d218d4",
            "_dom_classes": [],
            "description": "beta",
            "step": 0.1,
            "_model_name": "FloatSliderModel",
            "orientation": "horizontal",
            "max": 11,
            "_view_module": "@jupyter-widgets/controls",
            "_model_module_version": "1.5.0",
            "value": 0.5,
            "_view_count": null,
            "disabled": false,
            "_view_module_version": "1.5.0",
            "min": 0.01,
            "continuous_update": true,
            "readout_format": ".2f",
            "description_tooltip": null,
            "readout": true,
            "_model_module": "@jupyter-widgets/controls",
            "layout": "IPY_MODEL_4ecb8c850b56424993b80d953a197e46"
          }
        },
        "c92ae291590048878362d49418743910": {
          "model_module": "@jupyter-widgets/controls",
          "model_name": "FloatSliderModel",
          "model_module_version": "1.5.0",
          "state": {
            "_view_name": "FloatSliderView",
            "style": "IPY_MODEL_59af02603a574af3af8dfe076c00632a",
            "_dom_classes": [],
            "description": "A",
            "step": 0.1,
            "_model_name": "FloatSliderModel",
            "orientation": "horizontal",
            "max": 10,
            "_view_module": "@jupyter-widgets/controls",
            "_model_module_version": "1.5.0",
            "value": 0,
            "_view_count": null,
            "disabled": false,
            "_view_module_version": "1.5.0",
            "min": -10,
            "continuous_update": true,
            "readout_format": ".2f",
            "description_tooltip": null,
            "readout": true,
            "_model_module": "@jupyter-widgets/controls",
            "layout": "IPY_MODEL_93e7108d2c7c49498c6b41243e73a4ef"
          }
        },
        "d1ebb424d08e45918dd5aeb46cd93c03": {
          "model_module": "@jupyter-widgets/controls",
          "model_name": "FloatSliderModel",
          "model_module_version": "1.5.0",
          "state": {
            "_view_name": "FloatSliderView",
            "style": "IPY_MODEL_18e4b62f93124029b3767e6f2c453abe",
            "_dom_classes": [],
            "description": "y-axis bound",
            "step": 0.1,
            "_model_name": "FloatSliderModel",
            "orientation": "horizontal",
            "max": 1000,
            "_view_module": "@jupyter-widgets/controls",
            "_model_module_version": "1.5.0",
            "value": 0.5,
            "_view_count": null,
            "disabled": false,
            "_view_module_version": "1.5.0",
            "min": 0.5,
            "continuous_update": true,
            "readout_format": ".2f",
            "description_tooltip": null,
            "readout": true,
            "_model_module": "@jupyter-widgets/controls",
            "layout": "IPY_MODEL_a1c9f6059cd44a1ab7534663526ab5ae"
          }
        },
        "351167522aa24486aa5f514cfec44407": {
          "model_module": "@jupyter-widgets/controls",
          "model_name": "FloatSliderModel",
          "model_module_version": "1.5.0",
          "state": {
            "_view_name": "FloatSliderView",
            "style": "IPY_MODEL_61018e3774594038aada01dcd62f0960",
            "_dom_classes": [],
            "description": "x-axis bound",
            "step": 0.1,
            "_model_name": "FloatSliderModel",
            "orientation": "horizontal",
            "max": 1000,
            "_view_module": "@jupyter-widgets/controls",
            "_model_module_version": "1.5.0",
            "value": 20,
            "_view_count": null,
            "disabled": false,
            "_view_module_version": "1.5.0",
            "min": 10,
            "continuous_update": true,
            "readout_format": ".2f",
            "description_tooltip": null,
            "readout": true,
            "_model_module": "@jupyter-widgets/controls",
            "layout": "IPY_MODEL_3a84ab68501b4f0fb8522712e49a7563"
          }
        },
        "6a9037a1748b4343b3460c7915ace28c": {
          "model_module": "@jupyter-widgets/output",
          "model_name": "OutputModel",
          "model_module_version": "1.0.0",
          "state": {
            "_view_name": "OutputView",
            "msg_id": "",
            "_dom_classes": [],
            "_model_name": "OutputModel",
            "outputs": [
              {
                "output_type": "display_data",
                "data": {
                  "image/png": "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\n",
                  "text/plain": "<Figure size 864x576 with 1 Axes>"
                },
                "metadata": {}
              }
            ],
            "_view_module": "@jupyter-widgets/output",
            "_model_module_version": "1.0.0",
            "_view_count": null,
            "_view_module_version": "1.0.0",
            "layout": "IPY_MODEL_5451a4740af3476ba501374b9883e879",
            "_model_module": "@jupyter-widgets/output"
          }
        },
        "6ba19904f12d470da17959db2c96e15d": {
          "model_module": "@jupyter-widgets/controls",
          "model_name": "SliderStyleModel",
          "model_module_version": "1.5.0",
          "state": {
            "_view_name": "StyleView",
            "handle_color": null,
            "_model_name": "SliderStyleModel",
            "description_width": "",
            "_view_module": "@jupyter-widgets/base",
            "_model_module_version": "1.5.0",
            "_view_count": null,
            "_view_module_version": "1.2.0",
            "_model_module": "@jupyter-widgets/controls"
          }
        },
        "c42fd2479b2a477996b7cc2080930022": {
          "model_module": "@jupyter-widgets/base",
          "model_name": "LayoutModel",
          "model_module_version": "1.2.0",
          "state": {
            "_view_name": "LayoutView",
            "grid_template_rows": null,
            "right": null,
            "justify_content": null,
            "_view_module": "@jupyter-widgets/base",
            "overflow": null,
            "_model_module_version": "1.2.0",
            "_view_count": null,
            "flex_flow": null,
            "width": null,
            "min_width": null,
            "border": null,
            "align_items": null,
            "bottom": null,
            "_model_module": "@jupyter-widgets/base",
            "top": null,
            "grid_column": null,
            "overflow_y": null,
            "overflow_x": null,
            "grid_auto_flow": null,
            "grid_area": null,
            "grid_template_columns": null,
            "flex": null,
            "_model_name": "LayoutModel",
            "justify_items": null,
            "grid_row": null,
            "max_height": null,
            "align_content": null,
            "visibility": null,
            "align_self": null,
            "height": null,
            "min_height": null,
            "padding": null,
            "grid_auto_rows": null,
            "grid_gap": null,
            "max_width": null,
            "order": null,
            "_view_module_version": "1.2.0",
            "grid_template_areas": null,
            "object_position": null,
            "object_fit": null,
            "grid_auto_columns": null,
            "margin": null,
            "display": null,
            "left": null
          }
        },
        "56220ef288d846c883f5db45d3d218d4": {
          "model_module": "@jupyter-widgets/controls",
          "model_name": "SliderStyleModel",
          "model_module_version": "1.5.0",
          "state": {
            "_view_name": "StyleView",
            "handle_color": null,
            "_model_name": "SliderStyleModel",
            "description_width": "",
            "_view_module": "@jupyter-widgets/base",
            "_model_module_version": "1.5.0",
            "_view_count": null,
            "_view_module_version": "1.2.0",
            "_model_module": "@jupyter-widgets/controls"
          }
        },
        "4ecb8c850b56424993b80d953a197e46": {
          "model_module": "@jupyter-widgets/base",
          "model_name": "LayoutModel",
          "model_module_version": "1.2.0",
          "state": {
            "_view_name": "LayoutView",
            "grid_template_rows": null,
            "right": null,
            "justify_content": null,
            "_view_module": "@jupyter-widgets/base",
            "overflow": null,
            "_model_module_version": "1.2.0",
            "_view_count": null,
            "flex_flow": null,
            "width": null,
            "min_width": null,
            "border": null,
            "align_items": null,
            "bottom": null,
            "_model_module": "@jupyter-widgets/base",
            "top": null,
            "grid_column": null,
            "overflow_y": null,
            "overflow_x": null,
            "grid_auto_flow": null,
            "grid_area": null,
            "grid_template_columns": null,
            "flex": null,
            "_model_name": "LayoutModel",
            "justify_items": null,
            "grid_row": null,
            "max_height": null,
            "align_content": null,
            "visibility": null,
            "align_self": null,
            "height": null,
            "min_height": null,
            "padding": null,
            "grid_auto_rows": null,
            "grid_gap": null,
            "max_width": null,
            "order": null,
            "_view_module_version": "1.2.0",
            "grid_template_areas": null,
            "object_position": null,
            "object_fit": null,
            "grid_auto_columns": null,
            "margin": null,
            "display": null,
            "left": null
          }
        },
        "59af02603a574af3af8dfe076c00632a": {
          "model_module": "@jupyter-widgets/controls",
          "model_name": "SliderStyleModel",
          "model_module_version": "1.5.0",
          "state": {
            "_view_name": "StyleView",
            "handle_color": null,
            "_model_name": "SliderStyleModel",
            "description_width": "",
            "_view_module": "@jupyter-widgets/base",
            "_model_module_version": "1.5.0",
            "_view_count": null,
            "_view_module_version": "1.2.0",
            "_model_module": "@jupyter-widgets/controls"
          }
        },
        "93e7108d2c7c49498c6b41243e73a4ef": {
          "model_module": "@jupyter-widgets/base",
          "model_name": "LayoutModel",
          "model_module_version": "1.2.0",
          "state": {
            "_view_name": "LayoutView",
            "grid_template_rows": null,
            "right": null,
            "justify_content": null,
            "_view_module": "@jupyter-widgets/base",
            "overflow": null,
            "_model_module_version": "1.2.0",
            "_view_count": null,
            "flex_flow": null,
            "width": null,
            "min_width": null,
            "border": null,
            "align_items": null,
            "bottom": null,
            "_model_module": "@jupyter-widgets/base",
            "top": null,
            "grid_column": null,
            "overflow_y": null,
            "overflow_x": null,
            "grid_auto_flow": null,
            "grid_area": null,
            "grid_template_columns": null,
            "flex": null,
            "_model_name": "LayoutModel",
            "justify_items": null,
            "grid_row": null,
            "max_height": null,
            "align_content": null,
            "visibility": null,
            "align_self": null,
            "height": null,
            "min_height": null,
            "padding": null,
            "grid_auto_rows": null,
            "grid_gap": null,
            "max_width": null,
            "order": null,
            "_view_module_version": "1.2.0",
            "grid_template_areas": null,
            "object_position": null,
            "object_fit": null,
            "grid_auto_columns": null,
            "margin": null,
            "display": null,
            "left": null
          }
        },
        "18e4b62f93124029b3767e6f2c453abe": {
          "model_module": "@jupyter-widgets/controls",
          "model_name": "SliderStyleModel",
          "model_module_version": "1.5.0",
          "state": {
            "_view_name": "StyleView",
            "handle_color": null,
            "_model_name": "SliderStyleModel",
            "description_width": "",
            "_view_module": "@jupyter-widgets/base",
            "_model_module_version": "1.5.0",
            "_view_count": null,
            "_view_module_version": "1.2.0",
            "_model_module": "@jupyter-widgets/controls"
          }
        },
        "a1c9f6059cd44a1ab7534663526ab5ae": {
          "model_module": "@jupyter-widgets/base",
          "model_name": "LayoutModel",
          "model_module_version": "1.2.0",
          "state": {
            "_view_name": "LayoutView",
            "grid_template_rows": null,
            "right": null,
            "justify_content": null,
            "_view_module": "@jupyter-widgets/base",
            "overflow": null,
            "_model_module_version": "1.2.0",
            "_view_count": null,
            "flex_flow": null,
            "width": null,
            "min_width": null,
            "border": null,
            "align_items": null,
            "bottom": null,
            "_model_module": "@jupyter-widgets/base",
            "top": null,
            "grid_column": null,
            "overflow_y": null,
            "overflow_x": null,
            "grid_auto_flow": null,
            "grid_area": null,
            "grid_template_columns": null,
            "flex": null,
            "_model_name": "LayoutModel",
            "justify_items": null,
            "grid_row": null,
            "max_height": null,
            "align_content": null,
            "visibility": null,
            "align_self": null,
            "height": null,
            "min_height": null,
            "padding": null,
            "grid_auto_rows": null,
            "grid_gap": null,
            "max_width": null,
            "order": null,
            "_view_module_version": "1.2.0",
            "grid_template_areas": null,
            "object_position": null,
            "object_fit": null,
            "grid_auto_columns": null,
            "margin": null,
            "display": null,
            "left": null
          }
        },
        "61018e3774594038aada01dcd62f0960": {
          "model_module": "@jupyter-widgets/controls",
          "model_name": "SliderStyleModel",
          "model_module_version": "1.5.0",
          "state": {
            "_view_name": "StyleView",
            "handle_color": null,
            "_model_name": "SliderStyleModel",
            "description_width": "",
            "_view_module": "@jupyter-widgets/base",
            "_model_module_version": "1.5.0",
            "_view_count": null,
            "_view_module_version": "1.2.0",
            "_model_module": "@jupyter-widgets/controls"
          }
        },
        "3a84ab68501b4f0fb8522712e49a7563": {
          "model_module": "@jupyter-widgets/base",
          "model_name": "LayoutModel",
          "model_module_version": "1.2.0",
          "state": {
            "_view_name": "LayoutView",
            "grid_template_rows": null,
            "right": null,
            "justify_content": null,
            "_view_module": "@jupyter-widgets/base",
            "overflow": null,
            "_model_module_version": "1.2.0",
            "_view_count": null,
            "flex_flow": null,
            "width": null,
            "min_width": null,
            "border": null,
            "align_items": null,
            "bottom": null,
            "_model_module": "@jupyter-widgets/base",
            "top": null,
            "grid_column": null,
            "overflow_y": null,
            "overflow_x": null,
            "grid_auto_flow": null,
            "grid_area": null,
            "grid_template_columns": null,
            "flex": null,
            "_model_name": "LayoutModel",
            "justify_items": null,
            "grid_row": null,
            "max_height": null,
            "align_content": null,
            "visibility": null,
            "align_self": null,
            "height": null,
            "min_height": null,
            "padding": null,
            "grid_auto_rows": null,
            "grid_gap": null,
            "max_width": null,
            "order": null,
            "_view_module_version": "1.2.0",
            "grid_template_areas": null,
            "object_position": null,
            "object_fit": null,
            "grid_auto_columns": null,
            "margin": null,
            "display": null,
            "left": null
          }
        },
        "5451a4740af3476ba501374b9883e879": {
          "model_module": "@jupyter-widgets/base",
          "model_name": "LayoutModel",
          "model_module_version": "1.2.0",
          "state": {
            "_view_name": "LayoutView",
            "grid_template_rows": null,
            "right": null,
            "justify_content": null,
            "_view_module": "@jupyter-widgets/base",
            "overflow": null,
            "_model_module_version": "1.2.0",
            "_view_count": null,
            "flex_flow": null,
            "width": null,
            "min_width": null,
            "border": null,
            "align_items": null,
            "bottom": null,
            "_model_module": "@jupyter-widgets/base",
            "top": null,
            "grid_column": null,
            "overflow_y": null,
            "overflow_x": null,
            "grid_auto_flow": null,
            "grid_area": null,
            "grid_template_columns": null,
            "flex": null,
            "_model_name": "LayoutModel",
            "justify_items": null,
            "grid_row": null,
            "max_height": null,
            "align_content": null,
            "visibility": null,
            "align_self": null,
            "height": null,
            "min_height": null,
            "padding": null,
            "grid_auto_rows": null,
            "grid_gap": null,
            "max_width": null,
            "order": null,
            "_view_module_version": "1.2.0",
            "grid_template_areas": null,
            "object_position": null,
            "object_fit": null,
            "grid_auto_columns": null,
            "margin": null,
            "display": null,
            "left": null
          }
        }
      }
    }
  },
  "cells": [
    {
      "cell_type": "markdown",
      "metadata": {
        "id": "5775Ri6wjbIp"
      },
      "source": [
        "# Understanding Beta and Gamma Distributions\n",
        "\n",
        "This notebook aims to provide insights into two important families of continuous probability distributions: the **beta distribution** and the **gamma distribution**.\n",
        "\n",
        "For each distribution, we will discuss the different parameters as they are presented in:  \n",
        "+ Dudewicz, E. J. & Mishra, S. N. (1988). *Modern Mathematical Statistics*. John Wiley.\n",
        "+ [Wikipedia](https://www.wikipedia.org)"
      ]
    },
    {
      "cell_type": "markdown",
      "metadata": {
        "id": "SoLtOWnDlvBQ"
      },
      "source": [
        "# The Beta Distribution"
      ]
    },
    {
      "cell_type": "markdown",
      "metadata": {
        "id": "4b871REssbvB"
      },
      "source": [
        "## Support\n",
        "The beta distribution is a family of continuous probability distributions defined on the interval $[0, 1]$, i.e. if $X$ is a random variable with a beta distribution, it holds that:\n",
        "$$\n",
        "\\int_{-\\infty}^\\infty f_X(x) \\ dx = \\int_0^1 f_X(x) \\ dx = 1,\n",
        "$$\n",
        "\n",
        "with $f_X$ the probability distribution function of $X$.\n",
        "___\n",
        "Due to them being defined on the interval $[0, 1]$, beta distributions are a useful tool to model random variables that are themselves probabilities or proportions.\n",
        "___"
      ]
    },
    {
      "cell_type": "markdown",
      "metadata": {
        "id": "pJHaKfILsb15"
      },
      "source": [
        "## Parameters\n",
        "\n",
        "The beta distribution is fully parametrized by two **shape** parameters. Depending on the source, these parameters are called somewhat differently:\n",
        "\n",
        "+ Following [Wikipedia's notation](https://en.wikipedia.org/wiki/Beta_distribution), the shape parameters are denoted by $\\alpha$ and $\\beta$.\n",
        "+ Following Dudewicz & Mishra's notation, the shape parameters are denoted by $\\alpha$ and $\\lambda$.\n",
        "\n",
        "To make the distinction clear between the notation used in Dudewicz & Mishra and the one on Wikipedia, we will differentiate using superscripts. For instance, we will write $\\alpha^{DM}$ for the $\\alpha$ in Dudewicz & Mishra and $\\alpha^W$ for the one in Wikipedia.\n",
        "\n",
        "To make things more confusing, the parameters do not coincide perfectly between sources, the equivalences between the sources are the following:\n",
        "$$\n",
        "\\begin{align}\n",
        "\\alpha^{DM} + 1 &= \\alpha^W \\\\\n",
        "\\lambda^{DM} + 1 &= \\beta^W.\n",
        "\\end{align}$$\n",
        "___\n",
        "For instance, consider a beta distribution specified according to the notation on Wikipedia with $\\alpha^W = 3$ and $\\beta^W = 5$. This is **the exact same distribution** as the one specified according to Dudewicz & Mishra with $\\alpha^{DM} = 2$ and $\\lambda^{DM} = 4$.\n",
        "___\n",
        "\n",
        "The beta distribution is only defined for $\\alpha^W > 0$ and $\\beta^W > 0$ or, equivalently, $\\alpha^{DM} > -1$ and $\\lambda^{DM} > -1$.\n",
        "\n",
        "**In summary, the parameters are shifted by one depending on what source you look at, other than that, they have the same purpose.**"
      ]
    },
    {
      "cell_type": "markdown",
      "metadata": {
        "id": "jr5DMgfsssbj"
      },
      "source": [
        "\n",
        "## Probability Density Function\n",
        "According to Wikipedia, the pdf of a beta distribution is given by\n",
        "$$f_X^W(x) = \\frac{x^{\\alpha^W-1}(1 - x)^{\\beta^W -1}}{B^W(\\alpha^W, \\beta^W)},$$\n",
        "\n",
        "where $B^W$ is the [beta function](https://en.wikipedia.org/wiki/Beta_function), a special function defined as\n",
        "$$B^W(x, y) = \\int_0^1 t^{x-1}(1-t)^{y-1} \\ dt = \\frac{\\Gamma(x)\\Gamma(y)}{\\Gamma(x + y)},$$\n",
        "<a name=\"gamma-function\"></a>\n",
        "where $\\Gamma$ is the [gamma function](https://en.wikipedia.org/wiki/Gamma_function), another special function, defined as\n",
        "$$\\Gamma(z) = \\int_0^\\infty x^{z-1} e^{-x} \\ dx.$$\n",
        "\n",
        "Note that for the special case where $z$ is a positive integer, $\\Gamma(z)$ simplifies to $\\Gamma(z) = (z-1)!$.\n",
        "\n",
        "___\n",
        "**Do not confuse the beta function and the beta distribution!**  \n",
        "\n",
        "We make use of the beta *function* to define the pdf of a beta *distribution*, however, the beta *function* also has many other applications. The beta function is what is called a [special function](https://en.wikipedia.org/wiki/Special_functions) in mathematics, in essence, special functions are functions with established names due to their major importance in numerous mathematical applications.   \n",
        "\n",
        "For instance, better known special functions include the natural logarithm ($\\ln$), the trigonometric functions such as sine ($\\sin$) and cosine ($\\cos$), and quite a few other functions you have surely already used many times.\n",
        "\n",
        "*The same holds for the gamma function and the gamma distribution, more on that later.*\n",
        "___\n",
        "\n",
        "According to Dudewicz & Mishra, the pdf of a beta distribution is given by\n",
        "$$f^{DM}_X(x) = \\frac{x^{\\alpha^{DM}}(1-x)^{\\lambda^{DM}}}{\\beta^{DM}(\\alpha^{DM} + 1, \\lambda^{DM} + 1)},$$\n",
        "\n",
        "where $\\beta^{DM} = B^{W}$ is the beta function.  \n",
        "\n",
        "Once again, the difference in notation is slightly confusing, however, it is clear from their two equations that the pdfs $f_X^W$ and $f_X^{DM}$ are equivalent when shifting the shape parameters by $1$:\n",
        "\n",
        "$$f_X^W\\left(x; \\alpha^W, \\beta^W \\right) = \\frac{x^{\\overbrace{\\alpha^W-1}^{=\\alpha^{DM}}}(1-x)^{\\overbrace{\\beta^W -1}^{=\\lambda^{DM}}}}{\\underbrace{B^W(\\alpha^W, \\beta^W)}_{=\\beta^{DM}(\\alpha^{DM}+1, \\lambda^{DM}+1)}} = f_X^{W}\\left(x; \\alpha^{DM}+1, \\lambda^{DM} + 1\\right)\n",
        "$$\n",
        "and\n",
        "$$\n",
        "f_X^{DM}\\left(x; \\alpha^{DM}, \\lambda^{DM}\\right) = \\frac{x^{\\overbrace{\\alpha^{DM}}^{=\\alpha^W-1}}(1-x)^{\\overbrace{\\lambda^{DM}}^{=\\beta^W -1}}}{\\underbrace{\\beta^{DM}(\\alpha^{DM}+1, \\lambda^{DM}+1)}_{=B^W(\\alpha^W, \\beta^W)}}=f_X^{DM}\\left(x; \\alpha^W - 1, \\beta^W - 1 \\right)$$"
      ]
    },
    {
      "cell_type": "markdown",
      "metadata": {
        "id": "TV9FJ7xg6auD"
      },
      "source": [
        "Now that we have discussed the differences in notation and shown the equivalence between both sources, we can dive into the understanding of the beta distribution itself.  To alleviate the notation, we will drop the superscripts and go on using the notation from Dudewicz & Mishra, i.e. we write:  \n",
        "+ $f_X(x) \\equiv f_X^{DM}(x)$\n",
        "+ $\\alpha \\equiv \\alpha^{DM} = \\alpha^W - 1$\n",
        "+ $\\lambda \\equiv \\lambda^{DM} = \\beta^W - 1$\n",
        "+ $\\beta(x, y) \\equiv \\beta^{DM}(x, y) = B^W(x, y)$"
      ]
    },
    {
      "cell_type": "markdown",
      "metadata": {
        "id": "HwRW9oLn9psd"
      },
      "source": [
        "## Influence of the Shape Parameters\n",
        "While it is difficult to make general statements on the influence of the shape parameters $\\alpha$ and $\\lambda$ on a beta distribution, a good starting point is to observe how the parameters impact the *mean*, the *variance*, the *skewness*, and the *excess kurtosis*.\n",
        "\n"
      ]
    },
    {
      "cell_type": "markdown",
      "metadata": {
        "id": "DUI4fgZGlldK"
      },
      "source": [
        "### Mean\n",
        "The first central moment of a random variable $X$ with the beta distribution $B(x \\mid \\alpha, \\lambda)$ is given by\n",
        "\n",
        "$$\\mathbb{E}[X] = \\mu = \\frac{1}{1 + \\frac{\\lambda + 1}{\\alpha + 1}}.$$\n",
        "\n",
        "We are quick to notice that $\\mu=\\frac{1}{2}$ whenever $\\alpha = \\lambda$, i.e. if both shape parameters are equal, the mean is *centered* on the support.\n",
        "\n",
        "Sometimes, pictures are worth a thousand words. Below is a [surface plot](https://en.wikipedia.org/wiki/Graph_of_a_function#Functions_of_two_variables) and a [contour plot](https://en.wikipedia.org/wiki/Contour_line) of how the mean of a beta distributed random variable is affected by its two shape parameters."
      ]
    },
    {
      "cell_type": "markdown",
      "metadata": {
        "id": "Sk3O8Fo-GeSE"
      },
      "source": [
        "![mean](https://i.ibb.co/rppHJ5v/mean-beta.png)"
      ]
    },
    {
      "cell_type": "markdown",
      "metadata": {
        "id": "PGgLgp-5kw8w"
      },
      "source": [
        "In general, for small values of $\\alpha$, the mean will be closer to $0$, while it will be close to $1$ for small values of $\\lambda$.\n",
        "\n",
        "Clearly, the mean is bounded by $0$ and $1$ as beta distributed random variables are only defined on the interval $[0, 1]$."
      ]
    },
    {
      "cell_type": "markdown",
      "metadata": {
        "id": "M8axtebfbUdI"
      },
      "source": [
        "### Variance\n",
        "\n",
        "The variance of a random variable $X$ with the beta distribution $B(x \\mid \\alpha, \\lambda)$ is given by\n",
        "\n",
        "$$ \\text{var}(X) = \\frac{(\\alpha +1)(\\lambda + 1)}{(\\alpha + \\lambda + 2)^2 (\\alpha + \\lambda + 3)}.$$\n",
        "\n",
        "As for the mean, we show a plot of how the combination of shape parameters affects the variance of the beta distribution."
      ]
    },
    {
      "cell_type": "markdown",
      "metadata": {
        "id": "eglGgX3uFkyf"
      },
      "source": [
        "![variance](https://i.ibb.co/WkyYstR/variance-beta.png)"
      ]
    },
    {
      "cell_type": "markdown",
      "metadata": {
        "id": "uf1lDqYgpj-q"
      },
      "source": [
        "We notice that the variance is bounded by $0.25$, which occurs at the limit where $\\lambda =-1$ and $\\alpha=-1$."
      ]
    },
    {
      "cell_type": "markdown",
      "metadata": {
        "id": "djugFkillneo"
      },
      "source": [
        "### Skewness\n",
        "The skewness of a random variable $X$ with the beta distribution $B(x \\mid \\alpha, \\lambda)$ is given by\n",
        "\n",
        "$$ \\text{skewness} = \\frac{2(\\lambda - \\alpha) \\sqrt{\\alpha + \\lambda + 3}}{(\\alpha + \\lambda + 4) \\sqrt{(\\alpha+1)(\\lambda+1)}}.$$\n",
        "\n",
        "Once again, we quickly notice how the beta distribution must be symmetric when $\\alpha = \\lambda$, since $\\lambda-\\alpha=0$ will make the skewness equal to zero in case of equality of the shape parameters.\n",
        "\n",
        "Furthermore, since $\\lambda - \\alpha$ governs the sign of the skew, we observe that whenever $\\lambda > \\alpha$, the beta distribution will be right-skewed (positive skewness), whereas it will be left-skewed (negative skewness) whenever $\\lambda < \\alpha$.\n",
        "\n",
        "As above, we show a plot of how the combination of shape parameters affects the skewness of the beta distribution."
      ]
    },
    {
      "cell_type": "markdown",
      "metadata": {
        "id": "E_-iADUzlnhR"
      },
      "source": [
        "![skew](https://i.ibb.co/7YQfwML/skewness-beta.png)"
      ]
    },
    {
      "cell_type": "markdown",
      "metadata": {
        "id": "c_7NFsh5p17I"
      },
      "source": [
        "Notice for this plot, that we have cut off both shape parameters at $-0.9$. The reason is that the skewness *explodes* as either shape parameter gets closer to $-1$."
      ]
    },
    {
      "cell_type": "markdown",
      "metadata": {
        "id": "ZRxL0Gc5lns9"
      },
      "source": [
        "### Excess Kurtosis\n",
        "\n",
        "The excess kurtosis of a random variable $X$ with the beta distribution $B(x \\mid \\alpha, \\lambda)$ is given by\n",
        "\n",
        "$$ \\text{excess kurtosis} = \\frac{6[(\\alpha+1)^3 - (\\alpha+1)^2(2\\lambda + 1) + (\\lambda+1)^2(\\lambda + 2) -2 (\\alpha+1)(\\lambda +1)(\\lambda + 3)}{(\\alpha + 1)(\\lambda + 1)(\\alpha + \\lambda + 4)(\\alpha + \\lambda + 5)}.$$\n",
        "\n",
        "As above, we show a plot of how the combination of shape parameters affects the skewness of the beta distribution."
      ]
    },
    {
      "cell_type": "markdown",
      "metadata": {
        "id": "mqFOY2tGlnv2"
      },
      "source": [
        "![kurtosis](https://i.ibb.co/n6VZ20m/kurtosis-beta.png)"
      ]
    },
    {
      "cell_type": "markdown",
      "metadata": {
        "id": "daw1jAEgtD_H"
      },
      "source": [
        "Similarly to the skewness, the excess kurtosis *explodes* for small values of the shape parameters, consequently, we cut off the plot at $-0.5$ for both the $\\alpha$ and $\\lambda$ parameters.\n",
        "\n",
        "While the equation is slightly more intricate and it would take us time and nerves to unwrap, the plot clearly shows how *in general*, the beta distribution has rather thin tails, however, for small values of $\\alpha$ and large values of $\\lambda$ (or large values of $\\alpha$ and small values of $\\lambda$), the beta distribution can exhibit quite heavy tails."
      ]
    },
    {
      "cell_type": "markdown",
      "metadata": {
        "id": "x2aIL6vcXQp4"
      },
      "source": [
        "### An Interactive Example\n",
        "Play around with the parameters in the example below to see how the probability density function of a beta distributions changes as you shift the shape parameters!\n",
        "\n",
        "**Note that you will need to first execute the cells below in order for the interactive plot to work (either shift+enter or in the menu \"Runtime > Run all\"). The Python code in itself is not meant to be didactic, only the interactive plot it creates. Hence you can safely ignore the code.**"
      ]
    },
    {
      "cell_type": "code",
      "metadata": {
        "id": "-rAXH9YRbZh5"
      },
      "source": [
        "# Import necessary packages / functions\n",
        "import numpy as np\n",
        "import matplotlib.pyplot as plt\n",
        "import ipywidgets as widgets\n",
        "from scipy.special import gamma\n",
        "# Prettier plots\n",
        "plt.style.use(\"dark_background\")\n",
        "# Beta function\n",
        "beta = lambda x, y: gamma(x)*gamma(y)/gamma(x+y)"
      ],
      "execution_count": 6,
      "outputs": []
    },
    {
      "cell_type": "code",
      "metadata": {
        "id": "GSobpnLvYaMG"
      },
      "source": [
        "# Define plotting function\n",
        "def plot_pdf_beta(shape_alpha, shape_lambda, y_axis_ub):\n",
        "  x = np.linspace(0, 1, 1_000)\n",
        "  # Compute the pdf\n",
        "  pdf = (pow(x, shape_alpha)*pow(1-x, shape_lambda))/beta(shape_alpha+1, shape_lambda+1)\n",
        "  # Plot the pdf\n",
        "  fig, ax = plt.subplots(figsize=(12, 8))\n",
        "  ax.grid(alpha=0.3)\n",
        "  ax.set_ylim([0, y_axis_ub])\n",
        "  ax.plot(x, pdf)\n",
        "  ax.set_title(\n",
        "      r\"PDF of a beta distribution with $\\alpha = {}$ and $\\lambda = {}$\"\\\n",
        "      .format(shape_alpha, shape_lambda))\n",
        "  plt.show()"
      ],
      "execution_count": 14,
      "outputs": []
    },
    {
      "cell_type": "code",
      "metadata": {
        "colab": {
          "base_uri": "https://localhost:8080/",
          "height": 612,
          "referenced_widgets": [
            "c2491b51d16b404d9a40b79d9ecf8884",
            "e4c24a5047994cdf85045309e6eeb460",
            "3ac6c07dd1644b6aac437ac377e4f608",
            "627da86a2f0b40b3ae3702ec965ccd55",
            "3f37670ed1ce44c1a17a9ebcfee4c9f1",
            "733e2377e72d4f779fa0e44783ee8a18",
            "7069e3c98eee4b9581043297896ede36",
            "28693ede87c844848ccc795acb5bdb85",
            "d663908dd10d4698a05121bdfb441654",
            "dd37b49849c342c2ba3561c045ec7fe7",
            "a41962c12f5c4477a9816b089f0a5268",
            "959e2ed4c7e04447ad0cb7958d5197df",
            "9f6e97dcf67a47d69fd5019e7c079102"
          ]
        },
        "id": "AFJgYcISa5ik",
        "outputId": "0f72bcba-b9ea-4a43-b768-820924a9e2d5"
      },
      "source": [
        "# Create sliders for alpha and lambda\n",
        "slider_alpha = widgets.FloatSlider(value=1, min=-0.99, max=10, \n",
        "                                   description=\"alpha\")\n",
        "slider_lambda = widgets.FloatSlider(value=1, min=-0.99, max=10, \n",
        "                                    description=\"lambda\")\n",
        "# Fix y-axis\n",
        "y_axis = widgets.FloatSlider(value=2.5, min=2.5, max=1000, \n",
        "                                  description=\"y-axis bound\")\n",
        "widgets.interact(plot_pdf_beta, shape_alpha=slider_alpha, \n",
        "                 shape_lambda=slider_lambda, y_axis_ub=y_axis)"
      ],
      "execution_count": 16,
      "outputs": [
        {
          "output_type": "display_data",
          "data": {
            "application/vnd.jupyter.widget-view+json": {
              "model_id": "c2491b51d16b404d9a40b79d9ecf8884",
              "version_minor": 0,
              "version_major": 2
            },
            "text/plain": [
              "interactive(children=(FloatSlider(value=1.0, description='alpha', max=10.0, min=-0.99), FloatSlider(value=1.0,…"
            ]
          },
          "metadata": {}
        },
        {
          "output_type": "execute_result",
          "data": {
            "text/plain": [
              "<function __main__.plot_pdf_beta>"
            ]
          },
          "metadata": {},
          "execution_count": 16
        }
      ]
    },
    {
      "cell_type": "markdown",
      "metadata": {
        "id": "VErA6CEAvBd3"
      },
      "source": [
        "___\n",
        "# The Gamma Distribution"
      ]
    },
    {
      "cell_type": "markdown",
      "metadata": {
        "id": "AzWiUnMD_fvk"
      },
      "source": [
        "## Parameters\n",
        "The gamma distribution is fully parametrized by three parameters. Depending on the source, these parameters are called somewhat differently:  \n",
        "+ Following [Wikipedia](https://en.wikipedia.org/wiki/Gamma_distribution) there are two different notations commonly used:  \n",
        "  + A **shape** parameter $k$ and a **scale** parameter $\\theta$\n",
        "  + A **shape** parameter $\\alpha = k$ and a **rate** parameter $\\beta = \\frac{1}{\\theta}$\n",
        "+ Following Dudewicz & Mishra, the **shape** parameter is denoted by $\\alpha$ and the **scale** parameter is denoted by $\\beta$. Additionally, they present the distribution with a **displacement** parameter $A$; this parameter is not present in Wikipedia's notation, making the gamma distribution, as given by Wikipedia, a special case of the one given by Dudewicz & Mishra (the case where $A = 0$).\n",
        "\n",
        "We will once again make use of superscripts to make clear which notation we are referring to. The equivalence between parameters across different notations are the following:\n",
        "\n",
        "$$\\begin{align}\n",
        "\\alpha^{DM} + 1 &= k^W = \\alpha^W \\\\\n",
        "\\beta^{DM} &= \\theta^W = \\frac{1}{\\beta^W}\n",
        "\\end{align}\n",
        "$$\n",
        "\n",
        "Note that the displacement parameter $A^{DM}$ does not have an equivalence in the notations on Wikipedia. Intuitively, you can think of the displacement parameter as a parameter that *shifts* the pdf along the x-axis; it does not impact the shape of the pdf but only its location.\n",
        "\n",
        "Because of this different parametrization, the gamma distribution in Dudewicz & Mishra is more flexible. It is defined on the interval $(A^{DM}, \\infty)$ while the gamma distribution according to Wikipedia is only defined on the interval $(0, \\infty)$.\n",
        "\n",
        "___\n",
        "For instance, a gamma distribution specified according to Dudewicz & Mishra with $A^{DM}=0$, $\\alpha^{DM} = 5$, and $\\beta^{DM} = \\frac{1}{2}$ is **the exact same distribution** as one specified according to Wikipedia's notations using either $k^W = 6$ and $\\theta^W = \\frac{1}{2}$, or using $\\alpha^W = 6$ and $\\beta^W = 2$. \n",
        "___\n",
        "\n",
        "The gamma distribution is only defined for $\\alpha^{DM} > -1$ and $\\beta^{DM} >0$, or, equivalently, $k^W > 0$ and $\\theta^W > 0$, or, equivalently, $\\alpha^W > 0$ and $\\beta^W > 0$.\n",
        "\n",
        "**In summary, the parameters have a similar purpose across notation, however, the displacement parameter does not have an equivalent in Wikipedia's notation, making Dudewicz & Mishra's notation more flexible.**"
      ]
    },
    {
      "cell_type": "markdown",
      "metadata": {
        "id": "qT0oRITy_hSu"
      },
      "source": [
        "## Probability Density Function\n",
        "\n",
        "To simplify a bit, we only focus on Wikipedia's notation using the **scale** parameter, i.e. the parametrization with $k^W$ and $\\theta^W$. Changing between both parametrizations is trivial as the **rate** parameter is nothing but the inverse of the **scale** parameter; everything else is the same across both parametrization (if not for the **shape** parameter being denoted by a different letter). Because of this, we also drop the superscripts as the letters used for different parameters are not shared across the notation by Wikipedia and the one by Dudewicz & Mishra, i.e. we write:\n",
        "\n",
        "$$\n",
        "\\begin{align}\n",
        "k &\\equiv k^W \\\\\n",
        "\\theta &\\equiv \\theta^W \\\\\n",
        "\\alpha &\\equiv \\alpha^{DM} \\\\\n",
        "\\beta &\\equiv \\beta^{DM}\n",
        "\\end{align},$$\n",
        "\n",
        "and we ignore Wikipedia's notation using the **scale** parameter for the rest of this notebook.\n",
        "\n",
        "Using this parametrization, Wikipedia gives the pdf as\n",
        "$$f_X^W(x)=\\frac{1}{\\theta^k \\Gamma(k)}x^{k-1} e^{-\\frac{x}{\\theta}},$$\n",
        "\n",
        "with $\\Gamma$ being the gamma function ([see above](#gamma-function)).\n",
        "___\n",
        "**Do not confuse the gamma function and the gamma distribution!**\n",
        "\n",
        "Recall what we discussed about the beta function and the beta distribution, the same holds for the gamma function and gamma distribution.\n",
        "\n",
        "The gamma *function* is an important mathematical function with many applications. The gamma *distribution* is just one of these applications\n",
        "___\n",
        "\n",
        "According to Dudewicz & Mishra, the pdf of a gamma distribution is given by\n",
        "$$f_X^{DM}(x) = \\frac{1}{\\beta^{\\alpha +1} \\Gamma(\\alpha + 1)}(x-A)^\\alpha e^{-\\frac{(x-A)}{\\beta}}.$$\n",
        "\n",
        "Comparing $f_X^{DM}$ and $f_X^W$ we can clearly see how both pdfs boil down to the same equation when the displacement parameter $A$ is set to $0$:\n",
        "\n",
        "$$f_X^W(x; k, \\theta) = \\frac{1}{\\underbrace{\\theta^k}_{=\\beta^{\\alpha+1}} \\Gamma(\\underbrace{k}_{=\\alpha+1})}x^{\\overbrace{k-1}^{=\\alpha}} e^{\\overbrace{-\\frac{x}{\\theta}}^{=-\\frac{x}{\\beta}}} = f_X^W(x; \\alpha + 1, \\beta)$$\n",
        "\n",
        "and\n",
        "\n",
        "$$f_X^{DM}(x; \\alpha, \\beta, A) = \\frac{1}{\\underbrace{\\beta^{\\alpha+1}}_{=\\theta^k} \\Gamma(\\underbrace{\\alpha+1}_{=k})}(x-A)^{\\overbrace{\\alpha}^{=k-1}} e^{\\overbrace{-\\frac{(x-A)}{\\beta}}^{=-\\frac{x}{\\theta}}}= f_X^{DM}(x; k-1, \\theta, A)$$\n",
        "\n",
        "The differences in notation being cleared up, we now turn to the influence of the parameters on the gamma distribution."
      ]
    },
    {
      "cell_type": "markdown",
      "metadata": {
        "id": "Uavw0P1K_lOp"
      },
      "source": [
        "## Influence of the Shape Parameters\n",
        "Akin to the beta distribution, we will observe the impact of parameters on the *mean*, *variance*, *skewness* and *excess kurtosis* of the distribution.\n",
        "\n",
        "In order to keep things simple, we will keep the displacement parameter $A$ set to zero. As mentioned above, $A$ does not impact the shape of the pdf but only its location on the x-axis. Consequently, it cannot have an impact on the *variance*, *skewness* or even *excess kurtosis*, its only impact is on the mean, shifting it by $A$.\n",
        "\n",
        "This is made clear by the animation below, plotting the pdf of a gamma distribution where the shape $\\alpha=4$ and rate $\\beta =1$ parameters are held constant, while the displacement parameter takes values on the interval $[-4, 10]$."
      ]
    },
    {
      "cell_type": "markdown",
      "metadata": {
        "id": "swEs_VbEJdwN"
      },
      "source": [
        "![gamma-displacement](https://i.ibb.co/zSZs5QY/gamma-displacement.gif)"
      ]
    },
    {
      "cell_type": "markdown",
      "metadata": {
        "id": "FtR8RU72_n6j"
      },
      "source": [
        "### Mean\n",
        "\n",
        "The mean of a random variable $X$ with gamma distribution $G(x \\mid \\alpha, \\beta, A)$ is given by\n",
        "\n",
        "$$\\mathbb{E}[X] = \\mu = (\\alpha + 1)\\beta + A$$\n",
        "\n",
        "It is quite clear from the equation, that the mean of a gamma distribution is increasing in its shape, scale and displacement parameters."
      ]
    },
    {
      "cell_type": "markdown",
      "metadata": {
        "id": "MnmYxSCyPI6T"
      },
      "source": [
        "![mean-gamma](https://i.ibb.co/p1Hb9GG/mean-gamma.png)"
      ]
    },
    {
      "cell_type": "markdown",
      "metadata": {
        "id": "cQoxb8tC_o3m"
      },
      "source": [
        "### Variance\n",
        "\n",
        "The variance of a random variable $X$ with gamma distribution $G(x \\mid \\alpha, \\beta, A)$ is\n",
        "\n",
        "$$\\text{var}(X) = (\\alpha+1) \\beta^2$$\n",
        "\n",
        "As explained above, we see that the displacement parameter does not have an impact on the variance, furthermore we observe that the scale parameter enters the variance formula as a squared term and thus it will have a much greater impact on the variance than the shape parameters for values of $\\beta > 1$."
      ]
    },
    {
      "cell_type": "markdown",
      "metadata": {
        "id": "3yBZ-bD0OeQQ"
      },
      "source": [
        "![variance-gamma](https://i.ibb.co/CsR7Lps/variance-gamma.png)"
      ]
    },
    {
      "cell_type": "markdown",
      "metadata": {
        "id": "dzntql_c_p9d"
      },
      "source": [
        "### Skewness\n",
        "\n",
        "The skewness of a random variable $X$ with gamma distribution $G(x \\mid \\alpha, \\beta, A)$ is given by\n",
        "\n",
        "$$\\text{skewness} = \\frac{2}{\\sqrt{\\alpha+1}}.$$\n",
        "\n",
        "Hence, the skewness is always positive (right-skew) and it only depends on the shape parameter $\\alpha$. In particular, the skew becomes very large for small values of $\\alpha$, which is why the following plot is cut off at $\\alpha = -0.9$."
      ]
    },
    {
      "cell_type": "markdown",
      "metadata": {
        "id": "26ivCYLPOhc1"
      },
      "source": [
        "![skewness-gamma](https://i.ibb.co/68GY7q3/skewness-gamma.png)"
      ]
    },
    {
      "cell_type": "markdown",
      "metadata": {
        "id": "pSzfwCVD_rRW"
      },
      "source": [
        "### Excess Kurtosis\n",
        "\n",
        "The excess kurtosis of a random variable $X$ with gamma distribution $G(x \\mid \\alpha, \\beta, A)$ is given by\n",
        "\n",
        "$$\\text{excess kurtosis} = \\frac{6}{\\alpha + 1}.$$\n",
        "\n",
        "Akin to the skewness, the excess kurtosis of a gamma distribution is always positive, i.e. gamma distributions exhibit heavier tails than normal distributions. Furthermore, the excess kurtosis is uniquely impacted by the shape parameter and it *explodes* for small values of $\\alpha$, which is why the following plot is cut off at $\\alpha = -0.5$."
      ]
    },
    {
      "cell_type": "markdown",
      "metadata": {
        "id": "SXM5vaVROZ9d"
      },
      "source": [
        "![kurtosis-gamma](https://i.ibb.co/GppZH3F/kurtosis-gamma.png)"
      ]
    },
    {
      "cell_type": "markdown",
      "metadata": {
        "id": "N-7JibBcez03"
      },
      "source": [
        "### An Interactive Example\n",
        "Play around with the parameters in the example below to see how the probability density function of a beta distributions changes as you shift the shape parameters!"
      ]
    },
    {
      "cell_type": "code",
      "metadata": {
        "id": "htRixAWie4nH"
      },
      "source": [
        "# Define plotting function\n",
        "def plot_pdf_gamma(alpha, beta, A, y_axis_ub, x_axis_ub):\n",
        "  x = np.linspace(A+1e-10, x_axis_ub, 1_000)\n",
        "  # Compute the pdf\n",
        "  pdf = 1/(pow(beta, alpha+1)*gamma(alpha+1))*pow(x-A, alpha)*np.exp((A-x)/beta)\n",
        "  # Plot the pdf\n",
        "  fig, ax = plt.subplots(figsize=(12, 8))\n",
        "  ax.grid(alpha=0.3)\n",
        "  ax.set_ylim([0, y_axis_ub])\n",
        "  ax.set_xlim([A, x_axis_ub])\n",
        "  ax.plot(x, pdf)\n",
        "  ax.set_title(r\"PDF of a gamma distribution with $\\alpha = {}$, $\\beta = {}$, and $A= {}$\".format(\n",
        "      alpha, beta, A))\n",
        "  plt.show()"
      ],
      "execution_count": 32,
      "outputs": []
    },
    {
      "cell_type": "code",
      "metadata": {
        "colab": {
          "base_uri": "https://localhost:8080/",
          "height": 677,
          "referenced_widgets": [
            "25a14ea8dd6243beade168c6f21910f1",
            "d5528cb748184491b649d7d5d9c63c32",
            "b206881896204228bee314c401ff10f5",
            "9a0d0b2e93d54dab80ff3eedf951f57b",
            "c92ae291590048878362d49418743910",
            "d1ebb424d08e45918dd5aeb46cd93c03",
            "351167522aa24486aa5f514cfec44407",
            "6a9037a1748b4343b3460c7915ace28c",
            "6ba19904f12d470da17959db2c96e15d",
            "c42fd2479b2a477996b7cc2080930022",
            "56220ef288d846c883f5db45d3d218d4",
            "4ecb8c850b56424993b80d953a197e46",
            "59af02603a574af3af8dfe076c00632a",
            "93e7108d2c7c49498c6b41243e73a4ef",
            "18e4b62f93124029b3767e6f2c453abe",
            "a1c9f6059cd44a1ab7534663526ab5ae",
            "61018e3774594038aada01dcd62f0960",
            "3a84ab68501b4f0fb8522712e49a7563",
            "5451a4740af3476ba501374b9883e879"
          ]
        },
        "id": "ABnrKoP-e8mu",
        "outputId": "d8135fb1-0348-48fe-914e-d8c75647fd56"
      },
      "source": [
        "# Create sliders for alpha and lambda\n",
        "slider_alpha = widgets.FloatSlider(value=10, min=-0.99, max=10, description=\"alpha\")\n",
        "slider_beta = widgets.FloatSlider(value=0.5, min=0.01, max=11, description=\"beta\")\n",
        "slider_a = widgets.FloatSlider(min=-10, max=10, description=\"A\")\n",
        "# Fix x-/y-axis\n",
        "x_axis = widgets.FloatSlider(value=20, min=10, max=1000, \n",
        "                                  description=\"x-axis bound\")\n",
        "y_axis = widgets.FloatSlider(value=0.5, min=0.5, max=1000, \n",
        "                                  description=\"y-axis bound\")\n",
        "widgets.interact(plot_pdf_gamma, alpha=slider_alpha, beta=slider_beta, \n",
        "                 A=slider_a, y_axis_ub=y_axis, x_axis_ub=x_axis)"
      ],
      "execution_count": 34,
      "outputs": [
        {
          "output_type": "display_data",
          "data": {
            "application/vnd.jupyter.widget-view+json": {
              "model_id": "25a14ea8dd6243beade168c6f21910f1",
              "version_minor": 0,
              "version_major": 2
            },
            "text/plain": [
              "interactive(children=(FloatSlider(value=10.0, description='alpha', max=10.0, min=-0.99), FloatSlider(value=0.5…"
            ]
          },
          "metadata": {}
        },
        {
          "output_type": "execute_result",
          "data": {
            "text/plain": [
              "<function __main__.plot_pdf_gamma>"
            ]
          },
          "metadata": {},
          "execution_count": 34
        }
      ]
    }
  ]
}