{
  "nbformat": 4,
  "nbformat_minor": 0,
  "metadata": {
    "colab": {
      "name": "beta-and-gamma-distributions.ipynb",
      "provenance": [],
      "collapsed_sections": [],
      "toc_visible": true
    },
    "kernelspec": {
      "name": "python3",
      "display_name": "Python 3"
    },
    "language_info": {
      "name": "python"
    },
    "widgets": {
      "application/vnd.jupyter.widget-state+json": {
        "c396889a11f047109359a556a94eee50": {
          "model_module": "@jupyter-widgets/controls",
          "model_name": "VBoxModel",
          "model_module_version": "1.5.0",
          "state": {
            "_view_name": "VBoxView",
            "_dom_classes": [
              "widget-interact"
            ],
            "_model_name": "VBoxModel",
            "_view_module": "@jupyter-widgets/controls",
            "_model_module_version": "1.5.0",
            "_view_count": null,
            "_view_module_version": "1.5.0",
            "box_style": "",
            "layout": "IPY_MODEL_6b38adc30ad642e0b99e6aeca3e7b3ac",
            "_model_module": "@jupyter-widgets/controls",
            "children": [
              "IPY_MODEL_f462a2624b4e4859999fac0bfc4f5246",
              "IPY_MODEL_d74a208ec56e4b2eb13cd0e186578b97",
              "IPY_MODEL_662a4245d0f24909940791ad461dec22",
              "IPY_MODEL_3b15d6bb08e34b91845faea84cecfe76"
            ]
          }
        },
        "6b38adc30ad642e0b99e6aeca3e7b3ac": {
          "model_module": "@jupyter-widgets/base",
          "model_name": "LayoutModel",
          "model_module_version": "1.2.0",
          "state": {
            "_view_name": "LayoutView",
            "grid_template_rows": null,
            "right": null,
            "justify_content": null,
            "_view_module": "@jupyter-widgets/base",
            "overflow": null,
            "_model_module_version": "1.2.0",
            "_view_count": null,
            "flex_flow": null,
            "width": null,
            "min_width": null,
            "border": null,
            "align_items": null,
            "bottom": null,
            "_model_module": "@jupyter-widgets/base",
            "top": null,
            "grid_column": null,
            "overflow_y": null,
            "overflow_x": null,
            "grid_auto_flow": null,
            "grid_area": null,
            "grid_template_columns": null,
            "flex": null,
            "_model_name": "LayoutModel",
            "justify_items": null,
            "grid_row": null,
            "max_height": null,
            "align_content": null,
            "visibility": null,
            "align_self": null,
            "height": null,
            "min_height": null,
            "padding": null,
            "grid_auto_rows": null,
            "grid_gap": null,
            "max_width": null,
            "order": null,
            "_view_module_version": "1.2.0",
            "grid_template_areas": null,
            "object_position": null,
            "object_fit": null,
            "grid_auto_columns": null,
            "margin": null,
            "display": null,
            "left": null
          }
        },
        "f462a2624b4e4859999fac0bfc4f5246": {
          "model_module": "@jupyter-widgets/controls",
          "model_name": "FloatSliderModel",
          "model_module_version": "1.5.0",
          "state": {
            "_view_name": "FloatSliderView",
            "style": "IPY_MODEL_c38deb3179bf4d30b05fe08b3b288f36",
            "_dom_classes": [],
            "description": "alpha",
            "step": 0.1,
            "_model_name": "FloatSliderModel",
            "orientation": "horizontal",
            "max": 10,
            "_view_module": "@jupyter-widgets/controls",
            "_model_module_version": "1.5.0",
            "value": 1,
            "_view_count": null,
            "disabled": false,
            "_view_module_version": "1.5.0",
            "min": -0.99,
            "continuous_update": true,
            "readout_format": ".2f",
            "description_tooltip": null,
            "readout": true,
            "_model_module": "@jupyter-widgets/controls",
            "layout": "IPY_MODEL_53fcd6ecafc94edbab5a16f0da890c4c"
          }
        },
        "d74a208ec56e4b2eb13cd0e186578b97": {
          "model_module": "@jupyter-widgets/controls",
          "model_name": "FloatSliderModel",
          "model_module_version": "1.5.0",
          "state": {
            "_view_name": "FloatSliderView",
            "style": "IPY_MODEL_dd56a83e3db34ecdb80c47224e87ef5a",
            "_dom_classes": [],
            "description": "lambda",
            "step": 0.1,
            "_model_name": "FloatSliderModel",
            "orientation": "horizontal",
            "max": 10,
            "_view_module": "@jupyter-widgets/controls",
            "_model_module_version": "1.5.0",
            "value": 1,
            "_view_count": null,
            "disabled": false,
            "_view_module_version": "1.5.0",
            "min": -0.99,
            "continuous_update": true,
            "readout_format": ".2f",
            "description_tooltip": null,
            "readout": true,
            "_model_module": "@jupyter-widgets/controls",
            "layout": "IPY_MODEL_c3ebc7fa7eb44a319d61bb7a86924d7d"
          }
        },
        "662a4245d0f24909940791ad461dec22": {
          "model_module": "@jupyter-widgets/controls",
          "model_name": "FloatSliderModel",
          "model_module_version": "1.5.0",
          "state": {
            "_view_name": "FloatSliderView",
            "style": "IPY_MODEL_f2316540b8754a6db567e5cc8850aaf6",
            "_dom_classes": [],
            "description": "y-axis bound",
            "step": 0.1,
            "_model_name": "FloatSliderModel",
            "orientation": "horizontal",
            "max": 1000,
            "_view_module": "@jupyter-widgets/controls",
            "_model_module_version": "1.5.0",
            "value": 2.5,
            "_view_count": null,
            "disabled": false,
            "_view_module_version": "1.5.0",
            "min": 2.5,
            "continuous_update": true,
            "readout_format": ".2f",
            "description_tooltip": null,
            "readout": true,
            "_model_module": "@jupyter-widgets/controls",
            "layout": "IPY_MODEL_ba55bb59f3f646c68a5693558da2ffb7"
          }
        },
        "3b15d6bb08e34b91845faea84cecfe76": {
          "model_module": "@jupyter-widgets/output",
          "model_name": "OutputModel",
          "model_module_version": "1.0.0",
          "state": {
            "_view_name": "OutputView",
            "msg_id": "",
            "_dom_classes": [],
            "_model_name": "OutputModel",
            "outputs": [
              {
                "output_type": "display_data",
                "data": {
                  "image/png": "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\n",
                  "text/plain": "<Figure size 864x576 with 1 Axes>"
                },
                "metadata": {}
              }
            ],
            "_view_module": "@jupyter-widgets/output",
            "_model_module_version": "1.0.0",
            "_view_count": null,
            "_view_module_version": "1.0.0",
            "layout": "IPY_MODEL_bedffb4fc4714fc994bad1336491156a",
            "_model_module": "@jupyter-widgets/output"
          }
        },
        "c38deb3179bf4d30b05fe08b3b288f36": {
          "model_module": "@jupyter-widgets/controls",
          "model_name": "SliderStyleModel",
          "model_module_version": "1.5.0",
          "state": {
            "_view_name": "StyleView",
            "handle_color": null,
            "_model_name": "SliderStyleModel",
            "description_width": "",
            "_view_module": "@jupyter-widgets/base",
            "_model_module_version": "1.5.0",
            "_view_count": null,
            "_view_module_version": "1.2.0",
            "_model_module": "@jupyter-widgets/controls"
          }
        },
        "53fcd6ecafc94edbab5a16f0da890c4c": {
          "model_module": "@jupyter-widgets/base",
          "model_name": "LayoutModel",
          "model_module_version": "1.2.0",
          "state": {
            "_view_name": "LayoutView",
            "grid_template_rows": null,
            "right": null,
            "justify_content": null,
            "_view_module": "@jupyter-widgets/base",
            "overflow": null,
            "_model_module_version": "1.2.0",
            "_view_count": null,
            "flex_flow": null,
            "width": null,
            "min_width": null,
            "border": null,
            "align_items": null,
            "bottom": null,
            "_model_module": "@jupyter-widgets/base",
            "top": null,
            "grid_column": null,
            "overflow_y": null,
            "overflow_x": null,
            "grid_auto_flow": null,
            "grid_area": null,
            "grid_template_columns": null,
            "flex": null,
            "_model_name": "LayoutModel",
            "justify_items": null,
            "grid_row": null,
            "max_height": null,
            "align_content": null,
            "visibility": null,
            "align_self": null,
            "height": null,
            "min_height": null,
            "padding": null,
            "grid_auto_rows": null,
            "grid_gap": null,
            "max_width": null,
            "order": null,
            "_view_module_version": "1.2.0",
            "grid_template_areas": null,
            "object_position": null,
            "object_fit": null,
            "grid_auto_columns": null,
            "margin": null,
            "display": null,
            "left": null
          }
        },
        "dd56a83e3db34ecdb80c47224e87ef5a": {
          "model_module": "@jupyter-widgets/controls",
          "model_name": "SliderStyleModel",
          "model_module_version": "1.5.0",
          "state": {
            "_view_name": "StyleView",
            "handle_color": null,
            "_model_name": "SliderStyleModel",
            "description_width": "",
            "_view_module": "@jupyter-widgets/base",
            "_model_module_version": "1.5.0",
            "_view_count": null,
            "_view_module_version": "1.2.0",
            "_model_module": "@jupyter-widgets/controls"
          }
        },
        "c3ebc7fa7eb44a319d61bb7a86924d7d": {
          "model_module": "@jupyter-widgets/base",
          "model_name": "LayoutModel",
          "model_module_version": "1.2.0",
          "state": {
            "_view_name": "LayoutView",
            "grid_template_rows": null,
            "right": null,
            "justify_content": null,
            "_view_module": "@jupyter-widgets/base",
            "overflow": null,
            "_model_module_version": "1.2.0",
            "_view_count": null,
            "flex_flow": null,
            "width": null,
            "min_width": null,
            "border": null,
            "align_items": null,
            "bottom": null,
            "_model_module": "@jupyter-widgets/base",
            "top": null,
            "grid_column": null,
            "overflow_y": null,
            "overflow_x": null,
            "grid_auto_flow": null,
            "grid_area": null,
            "grid_template_columns": null,
            "flex": null,
            "_model_name": "LayoutModel",
            "justify_items": null,
            "grid_row": null,
            "max_height": null,
            "align_content": null,
            "visibility": null,
            "align_self": null,
            "height": null,
            "min_height": null,
            "padding": null,
            "grid_auto_rows": null,
            "grid_gap": null,
            "max_width": null,
            "order": null,
            "_view_module_version": "1.2.0",
            "grid_template_areas": null,
            "object_position": null,
            "object_fit": null,
            "grid_auto_columns": null,
            "margin": null,
            "display": null,
            "left": null
          }
        },
        "f2316540b8754a6db567e5cc8850aaf6": {
          "model_module": "@jupyter-widgets/controls",
          "model_name": "SliderStyleModel",
          "model_module_version": "1.5.0",
          "state": {
            "_view_name": "StyleView",
            "handle_color": null,
            "_model_name": "SliderStyleModel",
            "description_width": "",
            "_view_module": "@jupyter-widgets/base",
            "_model_module_version": "1.5.0",
            "_view_count": null,
            "_view_module_version": "1.2.0",
            "_model_module": "@jupyter-widgets/controls"
          }
        },
        "ba55bb59f3f646c68a5693558da2ffb7": {
          "model_module": "@jupyter-widgets/base",
          "model_name": "LayoutModel",
          "model_module_version": "1.2.0",
          "state": {
            "_view_name": "LayoutView",
            "grid_template_rows": null,
            "right": null,
            "justify_content": null,
            "_view_module": "@jupyter-widgets/base",
            "overflow": null,
            "_model_module_version": "1.2.0",
            "_view_count": null,
            "flex_flow": null,
            "width": null,
            "min_width": null,
            "border": null,
            "align_items": null,
            "bottom": null,
            "_model_module": "@jupyter-widgets/base",
            "top": null,
            "grid_column": null,
            "overflow_y": null,
            "overflow_x": null,
            "grid_auto_flow": null,
            "grid_area": null,
            "grid_template_columns": null,
            "flex": null,
            "_model_name": "LayoutModel",
            "justify_items": null,
            "grid_row": null,
            "max_height": null,
            "align_content": null,
            "visibility": null,
            "align_self": null,
            "height": null,
            "min_height": null,
            "padding": null,
            "grid_auto_rows": null,
            "grid_gap": null,
            "max_width": null,
            "order": null,
            "_view_module_version": "1.2.0",
            "grid_template_areas": null,
            "object_position": null,
            "object_fit": null,
            "grid_auto_columns": null,
            "margin": null,
            "display": null,
            "left": null
          }
        },
        "bedffb4fc4714fc994bad1336491156a": {
          "model_module": "@jupyter-widgets/base",
          "model_name": "LayoutModel",
          "model_module_version": "1.2.0",
          "state": {
            "_view_name": "LayoutView",
            "grid_template_rows": null,
            "right": null,
            "justify_content": null,
            "_view_module": "@jupyter-widgets/base",
            "overflow": null,
            "_model_module_version": "1.2.0",
            "_view_count": null,
            "flex_flow": null,
            "width": null,
            "min_width": null,
            "border": null,
            "align_items": null,
            "bottom": null,
            "_model_module": "@jupyter-widgets/base",
            "top": null,
            "grid_column": null,
            "overflow_y": null,
            "overflow_x": null,
            "grid_auto_flow": null,
            "grid_area": null,
            "grid_template_columns": null,
            "flex": null,
            "_model_name": "LayoutModel",
            "justify_items": null,
            "grid_row": null,
            "max_height": null,
            "align_content": null,
            "visibility": null,
            "align_self": null,
            "height": null,
            "min_height": null,
            "padding": null,
            "grid_auto_rows": null,
            "grid_gap": null,
            "max_width": null,
            "order": null,
            "_view_module_version": "1.2.0",
            "grid_template_areas": null,
            "object_position": null,
            "object_fit": null,
            "grid_auto_columns": null,
            "margin": null,
            "display": null,
            "left": null
          }
        },
        "0bfdc9b7d6044d2997741c8593c1711c": {
          "model_module": "@jupyter-widgets/controls",
          "model_name": "VBoxModel",
          "model_module_version": "1.5.0",
          "state": {
            "_view_name": "VBoxView",
            "_dom_classes": [
              "widget-interact"
            ],
            "_model_name": "VBoxModel",
            "_view_module": "@jupyter-widgets/controls",
            "_model_module_version": "1.5.0",
            "_view_count": null,
            "_view_module_version": "1.5.0",
            "box_style": "",
            "layout": "IPY_MODEL_d1fcac82fbe848a1ab8904865f30f2c9",
            "_model_module": "@jupyter-widgets/controls",
            "children": [
              "IPY_MODEL_3abd45ab4c9c407980b5f7aa7de90e1b",
              "IPY_MODEL_0b290a66c20a4ee18a0a5aede7a35b16",
              "IPY_MODEL_e6a04632e77a4d59bee60bfcf5a281d6",
              "IPY_MODEL_89e6a934c64545eda39c2e28aee8156c",
              "IPY_MODEL_59a5897b1f4241aa8d5e4caa23ced57b",
              "IPY_MODEL_05af191014e44c1e814bb07da122abb6"
            ]
          }
        },
        "d1fcac82fbe848a1ab8904865f30f2c9": {
          "model_module": "@jupyter-widgets/base",
          "model_name": "LayoutModel",
          "model_module_version": "1.2.0",
          "state": {
            "_view_name": "LayoutView",
            "grid_template_rows": null,
            "right": null,
            "justify_content": null,
            "_view_module": "@jupyter-widgets/base",
            "overflow": null,
            "_model_module_version": "1.2.0",
            "_view_count": null,
            "flex_flow": null,
            "width": null,
            "min_width": null,
            "border": null,
            "align_items": null,
            "bottom": null,
            "_model_module": "@jupyter-widgets/base",
            "top": null,
            "grid_column": null,
            "overflow_y": null,
            "overflow_x": null,
            "grid_auto_flow": null,
            "grid_area": null,
            "grid_template_columns": null,
            "flex": null,
            "_model_name": "LayoutModel",
            "justify_items": null,
            "grid_row": null,
            "max_height": null,
            "align_content": null,
            "visibility": null,
            "align_self": null,
            "height": null,
            "min_height": null,
            "padding": null,
            "grid_auto_rows": null,
            "grid_gap": null,
            "max_width": null,
            "order": null,
            "_view_module_version": "1.2.0",
            "grid_template_areas": null,
            "object_position": null,
            "object_fit": null,
            "grid_auto_columns": null,
            "margin": null,
            "display": null,
            "left": null
          }
        },
        "3abd45ab4c9c407980b5f7aa7de90e1b": {
          "model_module": "@jupyter-widgets/controls",
          "model_name": "FloatSliderModel",
          "model_module_version": "1.5.0",
          "state": {
            "_view_name": "FloatSliderView",
            "style": "IPY_MODEL_98d8d9b9e90842ba8afd1c6ee613034b",
            "_dom_classes": [],
            "description": "alpha",
            "step": 0.1,
            "_model_name": "FloatSliderModel",
            "orientation": "horizontal",
            "max": 10,
            "_view_module": "@jupyter-widgets/controls",
            "_model_module_version": "1.5.0",
            "value": 10,
            "_view_count": null,
            "disabled": false,
            "_view_module_version": "1.5.0",
            "min": -0.99,
            "continuous_update": true,
            "readout_format": ".2f",
            "description_tooltip": null,
            "readout": true,
            "_model_module": "@jupyter-widgets/controls",
            "layout": "IPY_MODEL_51bb266ae1654941928ec802a3d40702"
          }
        },
        "0b290a66c20a4ee18a0a5aede7a35b16": {
          "model_module": "@jupyter-widgets/controls",
          "model_name": "FloatSliderModel",
          "model_module_version": "1.5.0",
          "state": {
            "_view_name": "FloatSliderView",
            "style": "IPY_MODEL_d77c54b1de7945dab093f0f4cac0e6f3",
            "_dom_classes": [],
            "description": "beta",
            "step": 0.1,
            "_model_name": "FloatSliderModel",
            "orientation": "horizontal",
            "max": 11,
            "_view_module": "@jupyter-widgets/controls",
            "_model_module_version": "1.5.0",
            "value": 0.5,
            "_view_count": null,
            "disabled": false,
            "_view_module_version": "1.5.0",
            "min": 0.01,
            "continuous_update": true,
            "readout_format": ".2f",
            "description_tooltip": null,
            "readout": true,
            "_model_module": "@jupyter-widgets/controls",
            "layout": "IPY_MODEL_0221546b9af04058b01061e1326bd6b6"
          }
        },
        "e6a04632e77a4d59bee60bfcf5a281d6": {
          "model_module": "@jupyter-widgets/controls",
          "model_name": "FloatSliderModel",
          "model_module_version": "1.5.0",
          "state": {
            "_view_name": "FloatSliderView",
            "style": "IPY_MODEL_212ede6f9b6c4f05bc00e07003a124f9",
            "_dom_classes": [],
            "description": "A",
            "step": 0.1,
            "_model_name": "FloatSliderModel",
            "orientation": "horizontal",
            "max": 10,
            "_view_module": "@jupyter-widgets/controls",
            "_model_module_version": "1.5.0",
            "value": 0,
            "_view_count": null,
            "disabled": false,
            "_view_module_version": "1.5.0",
            "min": -10,
            "continuous_update": true,
            "readout_format": ".2f",
            "description_tooltip": null,
            "readout": true,
            "_model_module": "@jupyter-widgets/controls",
            "layout": "IPY_MODEL_71ece817c0ac4ee49682a33123c5ea67"
          }
        },
        "89e6a934c64545eda39c2e28aee8156c": {
          "model_module": "@jupyter-widgets/controls",
          "model_name": "FloatSliderModel",
          "model_module_version": "1.5.0",
          "state": {
            "_view_name": "FloatSliderView",
            "style": "IPY_MODEL_4bdae1e6da2a4c5ba99b8626e783ec0c",
            "_dom_classes": [],
            "description": "y-axis bound",
            "step": 0.1,
            "_model_name": "FloatSliderModel",
            "orientation": "horizontal",
            "max": 1000,
            "_view_module": "@jupyter-widgets/controls",
            "_model_module_version": "1.5.0",
            "value": 0.5,
            "_view_count": null,
            "disabled": false,
            "_view_module_version": "1.5.0",
            "min": 0.5,
            "continuous_update": true,
            "readout_format": ".2f",
            "description_tooltip": null,
            "readout": true,
            "_model_module": "@jupyter-widgets/controls",
            "layout": "IPY_MODEL_8521a61c3ce949f99a71a8486143567b"
          }
        },
        "59a5897b1f4241aa8d5e4caa23ced57b": {
          "model_module": "@jupyter-widgets/controls",
          "model_name": "FloatSliderModel",
          "model_module_version": "1.5.0",
          "state": {
            "_view_name": "FloatSliderView",
            "style": "IPY_MODEL_8c9263718e1d43689609e3e3d7f04785",
            "_dom_classes": [],
            "description": "x-axis bound",
            "step": 0.1,
            "_model_name": "FloatSliderModel",
            "orientation": "horizontal",
            "max": 1000,
            "_view_module": "@jupyter-widgets/controls",
            "_model_module_version": "1.5.0",
            "value": 20,
            "_view_count": null,
            "disabled": false,
            "_view_module_version": "1.5.0",
            "min": 10,
            "continuous_update": true,
            "readout_format": ".2f",
            "description_tooltip": null,
            "readout": true,
            "_model_module": "@jupyter-widgets/controls",
            "layout": "IPY_MODEL_2abed1ba824b41608c25b7a8ee7a6d21"
          }
        },
        "05af191014e44c1e814bb07da122abb6": {
          "model_module": "@jupyter-widgets/output",
          "model_name": "OutputModel",
          "model_module_version": "1.0.0",
          "state": {
            "_view_name": "OutputView",
            "msg_id": "",
            "_dom_classes": [],
            "_model_name": "OutputModel",
            "outputs": [
              {
                "output_type": "display_data",
                "data": {
                  "image/png": "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\n",
                  "text/plain": "<Figure size 864x576 with 1 Axes>"
                },
                "metadata": {}
              }
            ],
            "_view_module": "@jupyter-widgets/output",
            "_model_module_version": "1.0.0",
            "_view_count": null,
            "_view_module_version": "1.0.0",
            "layout": "IPY_MODEL_760533a16df04865b51ed49df5eac56f",
            "_model_module": "@jupyter-widgets/output"
          }
        },
        "98d8d9b9e90842ba8afd1c6ee613034b": {
          "model_module": "@jupyter-widgets/controls",
          "model_name": "SliderStyleModel",
          "model_module_version": "1.5.0",
          "state": {
            "_view_name": "StyleView",
            "handle_color": null,
            "_model_name": "SliderStyleModel",
            "description_width": "",
            "_view_module": "@jupyter-widgets/base",
            "_model_module_version": "1.5.0",
            "_view_count": null,
            "_view_module_version": "1.2.0",
            "_model_module": "@jupyter-widgets/controls"
          }
        },
        "51bb266ae1654941928ec802a3d40702": {
          "model_module": "@jupyter-widgets/base",
          "model_name": "LayoutModel",
          "model_module_version": "1.2.0",
          "state": {
            "_view_name": "LayoutView",
            "grid_template_rows": null,
            "right": null,
            "justify_content": null,
            "_view_module": "@jupyter-widgets/base",
            "overflow": null,
            "_model_module_version": "1.2.0",
            "_view_count": null,
            "flex_flow": null,
            "width": null,
            "min_width": null,
            "border": null,
            "align_items": null,
            "bottom": null,
            "_model_module": "@jupyter-widgets/base",
            "top": null,
            "grid_column": null,
            "overflow_y": null,
            "overflow_x": null,
            "grid_auto_flow": null,
            "grid_area": null,
            "grid_template_columns": null,
            "flex": null,
            "_model_name": "LayoutModel",
            "justify_items": null,
            "grid_row": null,
            "max_height": null,
            "align_content": null,
            "visibility": null,
            "align_self": null,
            "height": null,
            "min_height": null,
            "padding": null,
            "grid_auto_rows": null,
            "grid_gap": null,
            "max_width": null,
            "order": null,
            "_view_module_version": "1.2.0",
            "grid_template_areas": null,
            "object_position": null,
            "object_fit": null,
            "grid_auto_columns": null,
            "margin": null,
            "display": null,
            "left": null
          }
        },
        "d77c54b1de7945dab093f0f4cac0e6f3": {
          "model_module": "@jupyter-widgets/controls",
          "model_name": "SliderStyleModel",
          "model_module_version": "1.5.0",
          "state": {
            "_view_name": "StyleView",
            "handle_color": null,
            "_model_name": "SliderStyleModel",
            "description_width": "",
            "_view_module": "@jupyter-widgets/base",
            "_model_module_version": "1.5.0",
            "_view_count": null,
            "_view_module_version": "1.2.0",
            "_model_module": "@jupyter-widgets/controls"
          }
        },
        "0221546b9af04058b01061e1326bd6b6": {
          "model_module": "@jupyter-widgets/base",
          "model_name": "LayoutModel",
          "model_module_version": "1.2.0",
          "state": {
            "_view_name": "LayoutView",
            "grid_template_rows": null,
            "right": null,
            "justify_content": null,
            "_view_module": "@jupyter-widgets/base",
            "overflow": null,
            "_model_module_version": "1.2.0",
            "_view_count": null,
            "flex_flow": null,
            "width": null,
            "min_width": null,
            "border": null,
            "align_items": null,
            "bottom": null,
            "_model_module": "@jupyter-widgets/base",
            "top": null,
            "grid_column": null,
            "overflow_y": null,
            "overflow_x": null,
            "grid_auto_flow": null,
            "grid_area": null,
            "grid_template_columns": null,
            "flex": null,
            "_model_name": "LayoutModel",
            "justify_items": null,
            "grid_row": null,
            "max_height": null,
            "align_content": null,
            "visibility": null,
            "align_self": null,
            "height": null,
            "min_height": null,
            "padding": null,
            "grid_auto_rows": null,
            "grid_gap": null,
            "max_width": null,
            "order": null,
            "_view_module_version": "1.2.0",
            "grid_template_areas": null,
            "object_position": null,
            "object_fit": null,
            "grid_auto_columns": null,
            "margin": null,
            "display": null,
            "left": null
          }
        },
        "212ede6f9b6c4f05bc00e07003a124f9": {
          "model_module": "@jupyter-widgets/controls",
          "model_name": "SliderStyleModel",
          "model_module_version": "1.5.0",
          "state": {
            "_view_name": "StyleView",
            "handle_color": null,
            "_model_name": "SliderStyleModel",
            "description_width": "",
            "_view_module": "@jupyter-widgets/base",
            "_model_module_version": "1.5.0",
            "_view_count": null,
            "_view_module_version": "1.2.0",
            "_model_module": "@jupyter-widgets/controls"
          }
        },
        "71ece817c0ac4ee49682a33123c5ea67": {
          "model_module": "@jupyter-widgets/base",
          "model_name": "LayoutModel",
          "model_module_version": "1.2.0",
          "state": {
            "_view_name": "LayoutView",
            "grid_template_rows": null,
            "right": null,
            "justify_content": null,
            "_view_module": "@jupyter-widgets/base",
            "overflow": null,
            "_model_module_version": "1.2.0",
            "_view_count": null,
            "flex_flow": null,
            "width": null,
            "min_width": null,
            "border": null,
            "align_items": null,
            "bottom": null,
            "_model_module": "@jupyter-widgets/base",
            "top": null,
            "grid_column": null,
            "overflow_y": null,
            "overflow_x": null,
            "grid_auto_flow": null,
            "grid_area": null,
            "grid_template_columns": null,
            "flex": null,
            "_model_name": "LayoutModel",
            "justify_items": null,
            "grid_row": null,
            "max_height": null,
            "align_content": null,
            "visibility": null,
            "align_self": null,
            "height": null,
            "min_height": null,
            "padding": null,
            "grid_auto_rows": null,
            "grid_gap": null,
            "max_width": null,
            "order": null,
            "_view_module_version": "1.2.0",
            "grid_template_areas": null,
            "object_position": null,
            "object_fit": null,
            "grid_auto_columns": null,
            "margin": null,
            "display": null,
            "left": null
          }
        },
        "4bdae1e6da2a4c5ba99b8626e783ec0c": {
          "model_module": "@jupyter-widgets/controls",
          "model_name": "SliderStyleModel",
          "model_module_version": "1.5.0",
          "state": {
            "_view_name": "StyleView",
            "handle_color": null,
            "_model_name": "SliderStyleModel",
            "description_width": "",
            "_view_module": "@jupyter-widgets/base",
            "_model_module_version": "1.5.0",
            "_view_count": null,
            "_view_module_version": "1.2.0",
            "_model_module": "@jupyter-widgets/controls"
          }
        },
        "8521a61c3ce949f99a71a8486143567b": {
          "model_module": "@jupyter-widgets/base",
          "model_name": "LayoutModel",
          "model_module_version": "1.2.0",
          "state": {
            "_view_name": "LayoutView",
            "grid_template_rows": null,
            "right": null,
            "justify_content": null,
            "_view_module": "@jupyter-widgets/base",
            "overflow": null,
            "_model_module_version": "1.2.0",
            "_view_count": null,
            "flex_flow": null,
            "width": null,
            "min_width": null,
            "border": null,
            "align_items": null,
            "bottom": null,
            "_model_module": "@jupyter-widgets/base",
            "top": null,
            "grid_column": null,
            "overflow_y": null,
            "overflow_x": null,
            "grid_auto_flow": null,
            "grid_area": null,
            "grid_template_columns": null,
            "flex": null,
            "_model_name": "LayoutModel",
            "justify_items": null,
            "grid_row": null,
            "max_height": null,
            "align_content": null,
            "visibility": null,
            "align_self": null,
            "height": null,
            "min_height": null,
            "padding": null,
            "grid_auto_rows": null,
            "grid_gap": null,
            "max_width": null,
            "order": null,
            "_view_module_version": "1.2.0",
            "grid_template_areas": null,
            "object_position": null,
            "object_fit": null,
            "grid_auto_columns": null,
            "margin": null,
            "display": null,
            "left": null
          }
        },
        "8c9263718e1d43689609e3e3d7f04785": {
          "model_module": "@jupyter-widgets/controls",
          "model_name": "SliderStyleModel",
          "model_module_version": "1.5.0",
          "state": {
            "_view_name": "StyleView",
            "handle_color": null,
            "_model_name": "SliderStyleModel",
            "description_width": "",
            "_view_module": "@jupyter-widgets/base",
            "_model_module_version": "1.5.0",
            "_view_count": null,
            "_view_module_version": "1.2.0",
            "_model_module": "@jupyter-widgets/controls"
          }
        },
        "2abed1ba824b41608c25b7a8ee7a6d21": {
          "model_module": "@jupyter-widgets/base",
          "model_name": "LayoutModel",
          "model_module_version": "1.2.0",
          "state": {
            "_view_name": "LayoutView",
            "grid_template_rows": null,
            "right": null,
            "justify_content": null,
            "_view_module": "@jupyter-widgets/base",
            "overflow": null,
            "_model_module_version": "1.2.0",
            "_view_count": null,
            "flex_flow": null,
            "width": null,
            "min_width": null,
            "border": null,
            "align_items": null,
            "bottom": null,
            "_model_module": "@jupyter-widgets/base",
            "top": null,
            "grid_column": null,
            "overflow_y": null,
            "overflow_x": null,
            "grid_auto_flow": null,
            "grid_area": null,
            "grid_template_columns": null,
            "flex": null,
            "_model_name": "LayoutModel",
            "justify_items": null,
            "grid_row": null,
            "max_height": null,
            "align_content": null,
            "visibility": null,
            "align_self": null,
            "height": null,
            "min_height": null,
            "padding": null,
            "grid_auto_rows": null,
            "grid_gap": null,
            "max_width": null,
            "order": null,
            "_view_module_version": "1.2.0",
            "grid_template_areas": null,
            "object_position": null,
            "object_fit": null,
            "grid_auto_columns": null,
            "margin": null,
            "display": null,
            "left": null
          }
        },
        "760533a16df04865b51ed49df5eac56f": {
          "model_module": "@jupyter-widgets/base",
          "model_name": "LayoutModel",
          "model_module_version": "1.2.0",
          "state": {
            "_view_name": "LayoutView",
            "grid_template_rows": null,
            "right": null,
            "justify_content": null,
            "_view_module": "@jupyter-widgets/base",
            "overflow": null,
            "_model_module_version": "1.2.0",
            "_view_count": null,
            "flex_flow": null,
            "width": null,
            "min_width": null,
            "border": null,
            "align_items": null,
            "bottom": null,
            "_model_module": "@jupyter-widgets/base",
            "top": null,
            "grid_column": null,
            "overflow_y": null,
            "overflow_x": null,
            "grid_auto_flow": null,
            "grid_area": null,
            "grid_template_columns": null,
            "flex": null,
            "_model_name": "LayoutModel",
            "justify_items": null,
            "grid_row": null,
            "max_height": null,
            "align_content": null,
            "visibility": null,
            "align_self": null,
            "height": null,
            "min_height": null,
            "padding": null,
            "grid_auto_rows": null,
            "grid_gap": null,
            "max_width": null,
            "order": null,
            "_view_module_version": "1.2.0",
            "grid_template_areas": null,
            "object_position": null,
            "object_fit": null,
            "grid_auto_columns": null,
            "margin": null,
            "display": null,
            "left": null
          }
        }
      }
    }
  },
  "cells": [
    {
      "cell_type": "markdown",
      "metadata": {
        "id": "5775Ri6wjbIp"
      },
      "source": [
        "# Understanding Beta and Gamma Distributions\n",
        "\n",
        "This notebook aims to provide insights into two important families of continuous probability distributions: the **beta distribution** and the **gamma distribution**.\n",
        "\n",
        "For each distribution, we will discuss the different parameters as they are presented in:  \n",
        "+ Dudewicz, E. J. & Mishra, S. N. (1988). *Modern Mathematical Statistics*. John Wiley.\n",
        "+ [Wikipedia](https://www.wikipedia.org)"
      ]
    },
    {
      "cell_type": "markdown",
      "metadata": {
        "id": "SoLtOWnDlvBQ"
      },
      "source": [
        "# The Beta Distribution"
      ]
    },
    {
      "cell_type": "markdown",
      "metadata": {
        "id": "4b871REssbvB"
      },
      "source": [
        "## Support\n",
        "The beta distribution is a family of continuous probability distributions defined on the interval $[0, 1]$, i.e. if $X$ is a random variable with a beta distribution, it holds that:\n",
        "$$\n",
        "\\int_{-\\infty}^\\infty f_X(x) \\ dx = \\int_0^1 f_X(x) \\ dx = 1,\n",
        "$$\n",
        "\n",
        "with $f_X$ the probability distribution function of $X$.\n",
        "___\n",
        "Due to them being defined on the interval $[0, 1]$, beta distributions are a useful tool to model random variables that are themselves probabilities or proportions.\n",
        "___"
      ]
    },
    {
      "cell_type": "markdown",
      "metadata": {
        "id": "pJHaKfILsb15"
      },
      "source": [
        "## Parameters\n",
        "\n",
        "The beta distribution is fully parametrized by two **shape** parameters. Depending on the source, these parameters are called somewhat differently:\n",
        "\n",
        "+ Following [Wikipedia's notation](https://en.wikipedia.org/wiki/Beta_distribution), the shape parameters are denoted by $\\alpha$ and $\\beta$.\n",
        "+ Following Dudewicz & Mishra's notation, the shape parameters are denoted by $\\alpha$ and $\\lambda$.\n",
        "\n",
        "To make the distinction clear between the notation used in Dudewicz & Mishra and the one on Wikipedia, we will differentiate using superscripts. For instance, we will write $\\alpha^{DM}$ for the $\\alpha$ in Dudewicz & Mishra and $\\alpha^W$ for the one in Wikipedia.\n",
        "\n",
        "To make things more confusing, the parameters do not coincide perfectly between sources, the equivalences between the sources are the following:\n",
        "$$\n",
        "\\begin{align}\n",
        "\\alpha^{DM} + 1 &= \\alpha^W \\\\\n",
        "\\lambda^{DM} + 1 &= \\beta^W.\n",
        "\\end{align}$$\n",
        "___\n",
        "For instance, consider a beta distribution specified according to the notation on Wikipedia with $\\alpha^W = 3$ and $\\beta^W = 5$. This is **the exact same distribution** as the one specified according to Dudewicz & Mishra with $\\alpha^{DM} = 2$ and $\\lambda^{DM} = 4$.\n",
        "___\n",
        "\n",
        "The beta distribution is only defined for $\\alpha^W > 0$ and $\\beta^W > 0$ or, equivalently, $\\alpha^{DM} > -1$ and $\\lambda^{DM} > -1$.\n",
        "\n",
        "**In summary, the parameters are shifted by one depending on what source you look at, other than that, they have the same purpose.**"
      ]
    },
    {
      "cell_type": "markdown",
      "metadata": {
        "id": "jr5DMgfsssbj"
      },
      "source": [
        "\n",
        "## Probability Density Function\n",
        "According to Wikipedia, the pdf of a beta distribution is given by\n",
        "$$f_X^W(x) = \\frac{x^{\\alpha^W-1}(1 - x)^{\\beta^W -1}}{B^W(\\alpha^W, \\beta^W)},$$\n",
        "\n",
        "where $B^W$ is the [beta function](https://en.wikipedia.org/wiki/Beta_function), a special function defined as\n",
        "$$B^W(x, y) = \\int_0^1 t^{x-1}(1-t)^{y-1} \\ dt = \\frac{\\Gamma(x)\\Gamma(y)}{\\Gamma(x + y)},$$\n",
        "<a name=\"gamma-function\"></a>\n",
        "where $\\Gamma$ is the [gamma function](https://en.wikipedia.org/wiki/Gamma_function), another special function, defined as\n",
        "$$\\Gamma(z) = \\int_0^\\infty x^{z-1} e^{-x} \\ dx.$$\n",
        "\n",
        "Note that for the special case where $z$ is a positive integer, $\\Gamma(z)$ simplifies to $\\Gamma(z) = (z-1)!$.\n",
        "\n",
        "___\n",
        "**Do not confuse the beta function and the beta distribution!**  \n",
        "\n",
        "We make use of the beta *function* to define the pdf of a beta *distribution*, however, the beta *function* also has many other applications. The beta function is what is called a [special function](https://en.wikipedia.org/wiki/Special_functions) in mathematics, in essence, special functions are functions with established names due to their major importance in numerous mathematical applications.   \n",
        "\n",
        "For instance, better known special functions include the natural logarithm ($\\ln$), the trigonometric functions such as sine ($\\sin$) and cosine ($\\cos$), and quite a few other functions you have surely already used many times.\n",
        "\n",
        "*The same holds for the gamma function and the gamma distribution, more on that later.*\n",
        "___\n",
        "\n",
        "According to Dudewicz & Mishra, the pdf of a beta distribution is given by\n",
        "$$f^{DM}_X(x) = \\frac{x^{\\alpha^{DM}}(1-x)^{\\lambda^{DM}}}{\\beta^{DM}(\\alpha^{DM} + 1, \\lambda^{DM} + 1)},$$\n",
        "\n",
        "where $\\beta^{DM} = B^{W}$ is the beta function.  \n",
        "\n",
        "Once again, the difference in notation is slightly confusing, however, it is clear from their two equations that the pdfs $f_X^W$ and $f_X^{DM}$ are equivalent when shifting the shape parameters by $1$:\n",
        "\n",
        "$$f_X^W\\left(x; \\alpha^W, \\beta^W \\right) = \\frac{x^{\\overbrace{\\alpha^W-1}^{=\\alpha^{DM}}}(1-x)^{\\overbrace{\\beta^W -1}^{=\\lambda^{DM}}}}{\\underbrace{B^W(\\alpha^W, \\beta^W)}_{=\\beta^{DM}(\\alpha^{DM}+1, \\lambda^{DM}+1)}} = f_X^{W}\\left(x; \\alpha^{DM}+1, \\lambda^{DM} + 1\\right)\n",
        "$$\n",
        "and\n",
        "$$\n",
        "f_X^{DM}\\left(x; \\alpha^{DM}, \\lambda^{DM}\\right) = \\frac{x^{\\overbrace{\\alpha^{DM}}^{=\\alpha^W-1}}(1-x)^{\\overbrace{\\lambda^{DM}}^{=\\beta^W -1}}}{\\underbrace{\\beta^{DM}(\\alpha^{DM}+1, \\lambda^{DM}+1)}_{=B^W(\\alpha^W, \\beta^W)}}=f_X^{DM}\\left(x; \\alpha^W - 1, \\beta^W - 1 \\right)$$"
      ]
    },
    {
      "cell_type": "markdown",
      "metadata": {
        "id": "TV9FJ7xg6auD"
      },
      "source": [
        "Now that we have discussed the differences in notation and shown the equivalence between both sources, we can dive into the understanding of the beta distribution itself.  To alleviate the notation, we will drop the superscripts and go on using the notation from Dudewicz & Mishra, i.e. we write:  \n",
        "+ $f_X(x) \\equiv f_X^{DM}(x)$\n",
        "+ $\\alpha \\equiv \\alpha^{DM} = \\alpha^W - 1$\n",
        "+ $\\lambda \\equiv \\lambda^{DM} = \\beta^W - 1$\n",
        "+ $\\beta(x, y) \\equiv \\beta^{DM}(x, y) = B^W(x, y)$"
      ]
    },
    {
      "cell_type": "markdown",
      "metadata": {
        "id": "HwRW9oLn9psd"
      },
      "source": [
        "## Influence of the Shape Parameters\n",
        "While it is difficult to make general statements on the influence of the shape parameters $\\alpha$ and $\\lambda$ on a beta distribution, a good starting point is to observe how the parameters impact the *mean*, the *variance*, the *skewness*, and the *excess kurtosis*.\n",
        "\n"
      ]
    },
    {
      "cell_type": "markdown",
      "metadata": {
        "id": "DUI4fgZGlldK"
      },
      "source": [
        "### Mean\n",
        "The first central moment of a random variable $X$ with the beta distribution $B(x \\mid \\alpha, \\lambda)$ is given by\n",
        "\n",
        "$$\\mathbb{E}[X] = \\mu = \\frac{1}{1 + \\frac{\\lambda + 1}{\\alpha + 1}}.$$\n",
        "\n",
        "We are quick to notice that $\\mu=\\frac{1}{2}$ whenever $\\alpha = \\lambda$, i.e. if both shape parameters are equal, the mean is *centered* on the support.\n",
        "\n",
        "Sometimes, pictures are worth a thousand words. Below is a [surface plot](https://en.wikipedia.org/wiki/Graph_of_a_function#Functions_of_two_variables) and a [contour plot](https://en.wikipedia.org/wiki/Contour_line) of how the mean of a beta distributed random variable is affected by its two shape parameters."
      ]
    },
    {
      "cell_type": "markdown",
      "metadata": {
        "id": "Sk3O8Fo-GeSE"
      },
      "source": [
        "![mean](https://i.ibb.co/rppHJ5v/mean-beta.png)"
      ]
    },
    {
      "cell_type": "markdown",
      "metadata": {
        "id": "PGgLgp-5kw8w"
      },
      "source": [
        "In general, for small values of $\\alpha$, the mean will be closer to $0$, while it will be close to $1$ for small values of $\\lambda$.\n",
        "\n",
        "Clearly, the mean is bounded by $0$ and $1$ as beta distributed random variables are only defined on the interval $[0, 1]$."
      ]
    },
    {
      "cell_type": "markdown",
      "metadata": {
        "id": "M8axtebfbUdI"
      },
      "source": [
        "### Variance\n",
        "\n",
        "The variance of a random variable $X$ with the beta distribution $B(x \\mid \\alpha, \\lambda)$ is given by\n",
        "\n",
        "$$ \\text{var}(X) = \\frac{(\\alpha +1)(\\lambda + 1)}{(\\alpha + \\lambda + 2)^2 (\\alpha + \\lambda + 3)}.$$\n",
        "\n",
        "As for the mean, we show a plot of how the combination of shape parameters affects the variance of the beta distribution."
      ]
    },
    {
      "cell_type": "markdown",
      "metadata": {
        "id": "eglGgX3uFkyf"
      },
      "source": [
        "![variance](https://i.ibb.co/WkyYstR/variance-beta.png)"
      ]
    },
    {
      "cell_type": "markdown",
      "metadata": {
        "id": "uf1lDqYgpj-q"
      },
      "source": [
        "We notice that the variance is bounded by $0.25$, which occurs at the limit where $\\lambda =-1$ and $\\alpha=-1$."
      ]
    },
    {
      "cell_type": "markdown",
      "metadata": {
        "id": "djugFkillneo"
      },
      "source": [
        "### Skewness\n",
        "The skewness of a random variable $X$ with the beta distribution $B(x \\mid \\alpha, \\lambda)$ is given by\n",
        "\n",
        "$$ \\text{skewness} = \\frac{2(\\lambda - \\alpha) \\sqrt{\\alpha + \\lambda + 3}}{(\\alpha + \\lambda + 4) \\sqrt{(\\alpha+1)(\\lambda+1)}}.$$\n",
        "\n",
        "Once again, we quickly notice how the beta distribution must be symmetric when $\\alpha = \\lambda$, since $\\lambda-\\alpha=0$ will make the skewness equal to zero in case of equality of the shape parameters.\n",
        "\n",
        "Furthermore, since $\\lambda - \\alpha$ governs the sign of the skew, we observe that whenever $\\lambda > \\alpha$, the beta distribution will be right-skewed (positive skewness), whereas it will be left-skewed (negative skewness) whenever $\\lambda < \\alpha$.\n",
        "\n",
        "As above, we show a plot of how the combination of shape parameters affects the skewness of the beta distribution."
      ]
    },
    {
      "cell_type": "markdown",
      "metadata": {
        "id": "E_-iADUzlnhR"
      },
      "source": [
        "![skew](https://i.ibb.co/7YQfwML/skewness-beta.png)"
      ]
    },
    {
      "cell_type": "markdown",
      "metadata": {
        "id": "c_7NFsh5p17I"
      },
      "source": [
        "Notice for this plot, that we have cut off both shape parameters at $-0.9$. The reason is that the skewness *explodes* as either shape parameter gets closer to $-1$."
      ]
    },
    {
      "cell_type": "markdown",
      "metadata": {
        "id": "ZRxL0Gc5lns9"
      },
      "source": [
        "### Excess Kurtosis\n",
        "\n",
        "The excess kurtosis of a random variable $X$ with the beta distribution $B(x \\mid \\alpha, \\lambda)$ is given by\n",
        "\n",
        "$$ \\text{excess kurtosis} = \\frac{6[(\\alpha+1)^3 - (\\alpha+1)^2(2\\lambda + 1) + (\\lambda+1)^2(\\lambda + 2) -2 (\\alpha+1)(\\lambda +1)(\\lambda + 3)}{(\\alpha + 1)(\\lambda + 1)(\\alpha + \\lambda + 4)(\\alpha + \\lambda + 5)}.$$\n",
        "\n",
        "As above, we show a plot of how the combination of shape parameters affects the skewness of the beta distribution."
      ]
    },
    {
      "cell_type": "markdown",
      "metadata": {
        "id": "mqFOY2tGlnv2"
      },
      "source": [
        "![kurtosis](https://i.ibb.co/n6VZ20m/kurtosis-beta.png)"
      ]
    },
    {
      "cell_type": "markdown",
      "metadata": {
        "id": "daw1jAEgtD_H"
      },
      "source": [
        "Similarly to the skewness, the excess kurtosis *explodes* for small values of the shape parameters, consequently, we cut off the plot at $-0.5$ for both the $\\alpha$ and $\\lambda$ parameters.\n",
        "\n",
        "While the equation is slightly more intricate and it would take us time and nerves to unwrap, the plot clearly shows how *in general*, the beta distribution has rather thin tails, however, for small values of $\\alpha$ and large values of $\\lambda$ (or large values of $\\alpha$ and small values of $\\lambda$), the beta distribution can exhibit quite heavy tails."
      ]
    },
    {
      "cell_type": "markdown",
      "metadata": {
        "id": "x2aIL6vcXQp4"
      },
      "source": [
        "### An Interactive Example\n",
        "Play around with the parameters in the example below to see how the probability density function of a beta distributions changes as you shift the shape parameters!\n",
        "\n",
        "**Note that you will need to first execute the cells below in order for the interactive plot to work (either shift+enter or in the menu \"Runtime > Run all\"). The Python code in itself is not meant to be didactic, only the interactive plot it creates. Hence you can safely ignore the code.**"
      ]
    },
    {
      "cell_type": "code",
      "metadata": {
        "id": "-rAXH9YRbZh5"
      },
      "source": [
        "# Import necessary packages / functions\n",
        "import numpy as np\n",
        "import matplotlib.pyplot as plt\n",
        "import ipywidgets as widgets\n",
        "from scipy.special import gamma\n",
        "# Beta function\n",
        "beta = lambda x, y: gamma(x)*gamma(y)/gamma(x+y)"
      ],
      "execution_count": 1,
      "outputs": []
    },
    {
      "cell_type": "code",
      "metadata": {
        "id": "GSobpnLvYaMG"
      },
      "source": [
        "# Define plotting function\n",
        "def plot_pdf_beta(shape_alpha, shape_lambda, y_axis_ub):\n",
        "  # Prettier plots, for some strange reason this must be in the function, \n",
        "  # seems to be a bug with ipywidgets\n",
        "  plt.style.use(\"dark_background\") \n",
        "  x = np.linspace(0, 1, 1_000)\n",
        "  # Compute the pdf\n",
        "  pdf = (pow(x, shape_alpha)*pow(1-x, shape_lambda))/beta(shape_alpha+1, shape_lambda+1)\n",
        "  # Plot the pdf\n",
        "  fig, ax = plt.subplots(figsize=(12, 8))\n",
        "  ax.grid(alpha=0.3)\n",
        "  ax.set_ylim([0, y_axis_ub])\n",
        "  ax.plot(x, pdf)\n",
        "  ax.set_title(\n",
        "      r\"PDF of a beta distribution with $\\alpha = {}$ and $\\lambda = {}$\"\\\n",
        "      .format(shape_alpha, shape_lambda))\n",
        "  ax.set_xlabel(\"$x$\")\n",
        "  ax.set_ylabel(\"$f_X(x)$\")\n",
        "  plt.show()"
      ],
      "execution_count": 2,
      "outputs": []
    },
    {
      "cell_type": "code",
      "metadata": {
        "colab": {
          "base_uri": "https://localhost:8080/",
          "height": 626,
          "referenced_widgets": [
            "c396889a11f047109359a556a94eee50",
            "6b38adc30ad642e0b99e6aeca3e7b3ac",
            "f462a2624b4e4859999fac0bfc4f5246",
            "d74a208ec56e4b2eb13cd0e186578b97",
            "662a4245d0f24909940791ad461dec22",
            "3b15d6bb08e34b91845faea84cecfe76",
            "c38deb3179bf4d30b05fe08b3b288f36",
            "53fcd6ecafc94edbab5a16f0da890c4c",
            "dd56a83e3db34ecdb80c47224e87ef5a",
            "c3ebc7fa7eb44a319d61bb7a86924d7d",
            "f2316540b8754a6db567e5cc8850aaf6",
            "ba55bb59f3f646c68a5693558da2ffb7",
            "bedffb4fc4714fc994bad1336491156a"
          ]
        },
        "id": "AFJgYcISa5ik",
        "outputId": "0f61472c-9721-4a38-a01e-bc03a161e6cd"
      },
      "source": [
        "# Create sliders for alpha and lambda\n",
        "slider_alpha = widgets.FloatSlider(value=1, min=-0.99, max=10, \n",
        "                                   description=\"alpha\")\n",
        "slider_lambda = widgets.FloatSlider(value=1, min=-0.99, max=10, \n",
        "                                    description=\"lambda\")\n",
        "# Fix y-axis\n",
        "y_axis = widgets.FloatSlider(value=2.5, min=2.5, max=1000, \n",
        "                                  description=\"y-axis bound\")\n",
        "widgets.interact(plot_pdf_beta, shape_alpha=slider_alpha, \n",
        "                 shape_lambda=slider_lambda, y_axis_ub=y_axis)"
      ],
      "execution_count": 3,
      "outputs": [
        {
          "output_type": "display_data",
          "data": {
            "application/vnd.jupyter.widget-view+json": {
              "model_id": "c396889a11f047109359a556a94eee50",
              "version_minor": 0,
              "version_major": 2
            },
            "text/plain": [
              "interactive(children=(FloatSlider(value=1.0, description='alpha', max=10.0, min=-0.99), FloatSlider(value=1.0,…"
            ]
          },
          "metadata": {}
        },
        {
          "output_type": "execute_result",
          "data": {
            "text/plain": [
              "<function __main__.plot_pdf_beta>"
            ]
          },
          "metadata": {},
          "execution_count": 3
        }
      ]
    },
    {
      "cell_type": "markdown",
      "metadata": {
        "id": "VErA6CEAvBd3"
      },
      "source": [
        "___\n",
        "# The Gamma Distribution"
      ]
    },
    {
      "cell_type": "markdown",
      "metadata": {
        "id": "AzWiUnMD_fvk"
      },
      "source": [
        "## Parameters\n",
        "The gamma distribution is fully parametrized by three parameters. Depending on the source, these parameters are called somewhat differently:  \n",
        "+ Following [Wikipedia](https://en.wikipedia.org/wiki/Gamma_distribution) there are two different notations commonly used:  \n",
        "  + A **shape** parameter $k$ and a **scale** parameter $\\theta$\n",
        "  + A **shape** parameter $\\alpha = k$ and a **rate** parameter $\\beta = \\frac{1}{\\theta}$\n",
        "+ Following Dudewicz & Mishra, the **shape** parameter is denoted by $\\alpha$ and the **scale** parameter is denoted by $\\beta$. Additionally, they present the distribution with a **displacement** parameter $A$; this parameter is not present in Wikipedia's notation, making the gamma distribution, as given by Wikipedia, a special case of the one given by Dudewicz & Mishra (the case where $A = 0$).\n",
        "\n",
        "We will once again make use of superscripts to make clear which notation we are referring to. The equivalence between parameters across different notations are the following:\n",
        "\n",
        "$$\\begin{align}\n",
        "\\alpha^{DM} + 1 &= k^W = \\alpha^W \\\\\n",
        "\\beta^{DM} &= \\theta^W = \\frac{1}{\\beta^W}\n",
        "\\end{align}\n",
        "$$\n",
        "\n",
        "Note that the displacement parameter $A^{DM}$ does not have an equivalence in the notations on Wikipedia. Intuitively, you can think of the displacement parameter as a parameter that *shifts* the pdf along the x-axis; it does not impact the shape of the pdf but only its location.\n",
        "\n",
        "Because of this different parametrization, the gamma distribution in Dudewicz & Mishra is more flexible. It is defined on the interval $(A^{DM}, \\infty)$ while the gamma distribution according to Wikipedia is only defined on the interval $(0, \\infty)$.\n",
        "\n",
        "___\n",
        "For instance, a gamma distribution specified according to Dudewicz & Mishra with $A^{DM}=0$, $\\alpha^{DM} = 5$, and $\\beta^{DM} = \\frac{1}{2}$ is **the exact same distribution** as one specified according to Wikipedia's notations using either $k^W = 6$ and $\\theta^W = \\frac{1}{2}$, or using $\\alpha^W = 6$ and $\\beta^W = 2$. \n",
        "___\n",
        "\n",
        "The gamma distribution is only defined for $\\alpha^{DM} > -1$ and $\\beta^{DM} >0$, or, equivalently, $k^W > 0$ and $\\theta^W > 0$, or, equivalently, $\\alpha^W > 0$ and $\\beta^W > 0$.\n",
        "\n",
        "**In summary, the parameters have a similar purpose across notation, however, the displacement parameter does not have an equivalent in Wikipedia's notation, making Dudewicz & Mishra's notation more flexible.**"
      ]
    },
    {
      "cell_type": "markdown",
      "metadata": {
        "id": "qT0oRITy_hSu"
      },
      "source": [
        "## Probability Density Function\n",
        "\n",
        "To simplify a bit, we only focus on Wikipedia's notation using the **scale** parameter, i.e. the parametrization with $k^W$ and $\\theta^W$. Changing between both parametrizations is trivial as the **rate** parameter is nothing but the inverse of the **scale** parameter; everything else is the same across both parametrization (if not for the **shape** parameter being denoted by a different letter). Because of this, we also drop the superscripts as the letters used for different parameters are not shared across the notation by Wikipedia and the one by Dudewicz & Mishra, i.e. we write:\n",
        "\n",
        "$$\n",
        "\\begin{align}\n",
        "k &\\equiv k^W \\\\\n",
        "\\theta &\\equiv \\theta^W \\\\\n",
        "\\alpha &\\equiv \\alpha^{DM} \\\\\n",
        "\\beta &\\equiv \\beta^{DM}\n",
        "\\end{align},$$\n",
        "\n",
        "and we ignore Wikipedia's notation using the **scale** parameter for the rest of this notebook.\n",
        "\n",
        "Using this parametrization, Wikipedia gives the pdf as\n",
        "$$f_X^W(x)=\\frac{1}{\\theta^k \\Gamma(k)}x^{k-1} e^{-\\frac{x}{\\theta}},$$\n",
        "\n",
        "with $\\Gamma$ being the gamma function ([see above](#gamma-function)).\n",
        "___\n",
        "**Do not confuse the gamma function and the gamma distribution!**\n",
        "\n",
        "Recall what we discussed about the beta function and the beta distribution, the same holds for the gamma function and gamma distribution.\n",
        "\n",
        "The gamma *function* is an important mathematical function with many applications. The gamma *distribution* is just one of these applications\n",
        "___\n",
        "\n",
        "According to Dudewicz & Mishra, the pdf of a gamma distribution is given by\n",
        "$$f_X^{DM}(x) = \\frac{1}{\\beta^{\\alpha +1} \\Gamma(\\alpha + 1)}(x-A)^\\alpha e^{-\\frac{(x-A)}{\\beta}}.$$\n",
        "\n",
        "Comparing $f_X^{DM}$ and $f_X^W$ we can clearly see how both pdfs boil down to the same equation when the displacement parameter $A$ is set to $0$:\n",
        "\n",
        "$$f_X^W(x; k, \\theta) = \\frac{1}{\\underbrace{\\theta^k}_{=\\beta^{\\alpha+1}} \\Gamma(\\underbrace{k}_{=\\alpha+1})}x^{\\overbrace{k-1}^{=\\alpha}} e^{\\overbrace{-\\frac{x}{\\theta}}^{=-\\frac{x}{\\beta}}} = f_X^W(x; \\alpha + 1, \\beta)$$\n",
        "\n",
        "and\n",
        "\n",
        "$$f_X^{DM}(x; \\alpha, \\beta, A) = \\frac{1}{\\underbrace{\\beta^{\\alpha+1}}_{=\\theta^k} \\Gamma(\\underbrace{\\alpha+1}_{=k})}(x-A)^{\\overbrace{\\alpha}^{=k-1}} e^{\\overbrace{-\\frac{(x-A)}{\\beta}}^{=-\\frac{x}{\\theta}}}= f_X^{DM}(x; k-1, \\theta, A)$$\n",
        "\n",
        "The differences in notation being cleared up, we now turn to the influence of the parameters on the gamma distribution."
      ]
    },
    {
      "cell_type": "markdown",
      "metadata": {
        "id": "Uavw0P1K_lOp"
      },
      "source": [
        "## Influence of the Shape Parameters\n",
        "Akin to the beta distribution, we will observe the impact of parameters on the *mean*, *variance*, *skewness* and *excess kurtosis* of the distribution.\n",
        "\n",
        "In order to keep things simple, we will keep the displacement parameter $A$ set to zero. As mentioned above, $A$ does not impact the shape of the pdf but only its location on the x-axis. Consequently, it cannot have an impact on the *variance*, *skewness* or even *excess kurtosis*, its only impact is on the mean, shifting it by $A$.\n",
        "\n",
        "This is made clear by the animation below, plotting the pdf of a gamma distribution where the shape $\\alpha=4$ and rate $\\beta =1$ parameters are held constant, while the displacement parameter takes values on the interval $[-4, 10]$."
      ]
    },
    {
      "cell_type": "markdown",
      "metadata": {
        "id": "swEs_VbEJdwN"
      },
      "source": [
        "![gamma-displacement](https://i.ibb.co/zSZs5QY/gamma-displacement.gif)"
      ]
    },
    {
      "cell_type": "markdown",
      "metadata": {
        "id": "FtR8RU72_n6j"
      },
      "source": [
        "### Mean\n",
        "\n",
        "The mean of a random variable $X$ with gamma distribution $G(x \\mid \\alpha, \\beta, A)$ is given by\n",
        "\n",
        "$$\\mathbb{E}[X] = \\mu = (\\alpha + 1)\\beta + A$$\n",
        "\n",
        "It is quite clear from the equation, that the mean of a gamma distribution is increasing in its shape, scale and displacement parameters."
      ]
    },
    {
      "cell_type": "markdown",
      "metadata": {
        "id": "MnmYxSCyPI6T"
      },
      "source": [
        "![mean-gamma](https://i.ibb.co/p1Hb9GG/mean-gamma.png)"
      ]
    },
    {
      "cell_type": "markdown",
      "metadata": {
        "id": "cQoxb8tC_o3m"
      },
      "source": [
        "### Variance\n",
        "\n",
        "The variance of a random variable $X$ with gamma distribution $G(x \\mid \\alpha, \\beta, A)$ is\n",
        "\n",
        "$$\\text{var}(X) = (\\alpha+1) \\beta^2$$\n",
        "\n",
        "As explained above, we see that the displacement parameter does not have an impact on the variance, furthermore we observe that the scale parameter enters the variance formula as a squared term and thus it will have a much greater impact on the variance than the shape parameters for values of $\\beta > 1$."
      ]
    },
    {
      "cell_type": "markdown",
      "metadata": {
        "id": "3yBZ-bD0OeQQ"
      },
      "source": [
        "![variance-gamma](https://i.ibb.co/CsR7Lps/variance-gamma.png)"
      ]
    },
    {
      "cell_type": "markdown",
      "metadata": {
        "id": "dzntql_c_p9d"
      },
      "source": [
        "### Skewness\n",
        "\n",
        "The skewness of a random variable $X$ with gamma distribution $G(x \\mid \\alpha, \\beta, A)$ is given by\n",
        "\n",
        "$$\\text{skewness} = \\frac{2}{\\sqrt{\\alpha+1}}.$$\n",
        "\n",
        "Hence, the skewness is always positive (right-skew) and it only depends on the shape parameter $\\alpha$. In particular, the skew becomes very large for small values of $\\alpha$, which is why the following plot is cut off at $\\alpha = -0.9$."
      ]
    },
    {
      "cell_type": "markdown",
      "metadata": {
        "id": "26ivCYLPOhc1"
      },
      "source": [
        "![skewness-gamma](https://i.ibb.co/68GY7q3/skewness-gamma.png)"
      ]
    },
    {
      "cell_type": "markdown",
      "metadata": {
        "id": "pSzfwCVD_rRW"
      },
      "source": [
        "### Excess Kurtosis\n",
        "\n",
        "The excess kurtosis of a random variable $X$ with gamma distribution $G(x \\mid \\alpha, \\beta, A)$ is given by\n",
        "\n",
        "$$\\text{excess kurtosis} = \\frac{6}{\\alpha + 1}.$$\n",
        "\n",
        "Akin to the skewness, the excess kurtosis of a gamma distribution is always positive, i.e. gamma distributions exhibit heavier tails than normal distributions. Furthermore, the excess kurtosis is uniquely impacted by the shape parameter and it *explodes* for small values of $\\alpha$, which is why the following plot is cut off at $\\alpha = -0.5$."
      ]
    },
    {
      "cell_type": "markdown",
      "metadata": {
        "id": "SXM5vaVROZ9d"
      },
      "source": [
        "![kurtosis-gamma](https://i.ibb.co/GppZH3F/kurtosis-gamma.png)"
      ]
    },
    {
      "cell_type": "markdown",
      "metadata": {
        "id": "N-7JibBcez03"
      },
      "source": [
        "### An Interactive Example\n",
        "Play around with the parameters in the example below to see how the probability density function of a beta distributions changes as you shift the shape parameters!"
      ]
    },
    {
      "cell_type": "code",
      "metadata": {
        "id": "htRixAWie4nH"
      },
      "source": [
        "# Define plotting function\n",
        "def plot_pdf_gamma(alpha, beta, A, y_axis_ub, x_axis_ub):\n",
        "  plt.style.use(\"dark_background\") \n",
        "  x = np.linspace(A+1e-10, x_axis_ub, 1_000)\n",
        "  # Compute the pdf\n",
        "  pdf = 1/(pow(beta, alpha+1)*gamma(alpha+1))*pow(x-A, alpha)*np.exp((A-x)/beta)\n",
        "  # Plot the pdf\n",
        "  fig, ax = plt.subplots(figsize=(12, 8))\n",
        "  ax.grid(alpha=0.3)\n",
        "  ax.set_ylim([0, y_axis_ub])\n",
        "  ax.set_xlim([A, x_axis_ub])\n",
        "  ax.plot(x, pdf)\n",
        "  ax.set_title(r\"PDF of a gamma distribution with $\\alpha = {}$, $\\beta = {}$, and $A= {}$\".format(\n",
        "      alpha, beta, A))\n",
        "  ax.set_xlabel(\"$x$\")\n",
        "  ax.set_ylabel(\"$f_X(x)$\")\n",
        "  plt.show()"
      ],
      "execution_count": 4,
      "outputs": []
    },
    {
      "cell_type": "code",
      "metadata": {
        "colab": {
          "base_uri": "https://localhost:8080/",
          "height": 691,
          "referenced_widgets": [
            "0bfdc9b7d6044d2997741c8593c1711c",
            "d1fcac82fbe848a1ab8904865f30f2c9",
            "3abd45ab4c9c407980b5f7aa7de90e1b",
            "0b290a66c20a4ee18a0a5aede7a35b16",
            "e6a04632e77a4d59bee60bfcf5a281d6",
            "89e6a934c64545eda39c2e28aee8156c",
            "59a5897b1f4241aa8d5e4caa23ced57b",
            "05af191014e44c1e814bb07da122abb6",
            "98d8d9b9e90842ba8afd1c6ee613034b",
            "51bb266ae1654941928ec802a3d40702",
            "d77c54b1de7945dab093f0f4cac0e6f3",
            "0221546b9af04058b01061e1326bd6b6",
            "212ede6f9b6c4f05bc00e07003a124f9",
            "71ece817c0ac4ee49682a33123c5ea67",
            "4bdae1e6da2a4c5ba99b8626e783ec0c",
            "8521a61c3ce949f99a71a8486143567b",
            "8c9263718e1d43689609e3e3d7f04785",
            "2abed1ba824b41608c25b7a8ee7a6d21",
            "760533a16df04865b51ed49df5eac56f"
          ]
        },
        "id": "ABnrKoP-e8mu",
        "outputId": "ccba6f0d-12e8-4de7-ee20-d49797cfb482"
      },
      "source": [
        "# Create sliders for alpha and lambda\n",
        "slider_alpha = widgets.FloatSlider(value=10, min=-0.99, max=10, \n",
        "                                   description=\"alpha\")\n",
        "slider_beta = widgets.FloatSlider(value=0.5, min=0.01, max=11, \n",
        "                                  description=\"beta\")\n",
        "slider_a = widgets.FloatSlider(min=-10, max=10, description=\"A\")\n",
        "# Fix x-/y-axis\n",
        "x_axis = widgets.FloatSlider(value=20, min=10, max=1000, \n",
        "                                  description=\"x-axis bound\")\n",
        "y_axis = widgets.FloatSlider(value=0.5, min=0.5, max=1000, \n",
        "                                  description=\"y-axis bound\")\n",
        "widgets.interact(plot_pdf_gamma, alpha=slider_alpha, beta=slider_beta, \n",
        "                 A=slider_a, y_axis_ub=y_axis, x_axis_ub=x_axis)"
      ],
      "execution_count": 5,
      "outputs": [
        {
          "output_type": "display_data",
          "data": {
            "application/vnd.jupyter.widget-view+json": {
              "model_id": "0bfdc9b7d6044d2997741c8593c1711c",
              "version_minor": 0,
              "version_major": 2
            },
            "text/plain": [
              "interactive(children=(FloatSlider(value=10.0, description='alpha', max=10.0, min=-0.99), FloatSlider(value=0.5…"
            ]
          },
          "metadata": {}
        },
        {
          "output_type": "execute_result",
          "data": {
            "text/plain": [
              "<function __main__.plot_pdf_gamma>"
            ]
          },
          "metadata": {},
          "execution_count": 5
        }
      ]
    }
  ]
}